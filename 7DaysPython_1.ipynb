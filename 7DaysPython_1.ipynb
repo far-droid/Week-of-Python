{
  "cells": [
    {
      "cell_type": "markdown",
      "metadata": {
        "id": "GYfCST6Zxiv5"
      },
      "source": [
        "#intro\n",
        "Python is a high-level programming language, commonly used for\n",
        "general purposes. It was originally developed by Guido van Rossum at the\n",
        "\"Center Wiskunde & Informatica (CWI), Netherlands”, in the 1980s and\n",
        "introduced by the “Python Software Foundation” in 1991. It was designed\n",
        "primarily to emphasize the readability of programming code, and its syntax\n",
        "enables programmers to convey ideas using fewer lines of code. Python\n",
        "programming language increases the speed of operation while allowing for\n",
        "higher efficiency in creating system integrations. Developers are using\n",
        "Python for “web development (server-side), software development,\n",
        "mathematics, system scripting”.\n",
        "\n",
        "With the introduction of various enhancements such as “list\n",
        "comprehension” and a “garbage collection system”, which can collect\n",
        "reference cycles, the Python 2.0 was launched in the last quarter of 2000.\n",
        "Subsequently, in 2008, Python 3.0 was released as a major version upgrade\n",
        "with backward compatibility allowing for the Python 2.0 code to be\n",
        "executed on Python 3.0 without requiring any modifications. Python is\n",
        "supported by a community of programmers that continually develop and\n",
        "maintain the “CPython”, which is an open-source reference\n",
        "implementation. The “Python Software Foundation” is a not for profit\n",
        "organization that is responsible for managing and directing resources for\n",
        "developing Python programming as well as “CPython”.\n",
        "\n",
        "Here are some of the key features of Python that render it as the\n",
        "language of choice for coding beginners as well as advanced software\n",
        "programmers alike:\n",
        "\n",
        "1.**Readability** : Python reads a lot like the\n",
        "English language, which contributes to its ease of readability.\n",
        "\n",
        "2.**Learnability** : Python is a high level programming\n",
        "language and considered easy to learn due to the ability to code\n",
        "using English language like expressions, which implies it is\n",
        "simple to comprehend and thereby learn the language.\n",
        "\n",
        "3.**Operating Systems** : Python is easily accessible and can\n",
        "be operated across different Operating systems, including\n",
        "Linux, Unix, Mac, Windows among others. This renders\n",
        "Python as a versatile and cross-platform language.\n",
        "\n",
        "4.**Open Source** : Python is \"open source”, which means\n",
        "that the developer community can seamlessly make updates to\n",
        "the code, which are always available to anyone using Python\n",
        "for their software programming needs.\n",
        "\n",
        "5.**Standardized Data Libraries** : Python features a big\n",
        "standard data library with a variety of useful codes and\n",
        "functionalities that can be used when writing Python code for\n",
        "data analysis and development of machine learning models.\n",
        "(Details on machine learning libraries will be provided later in\n",
        "this chapter)\n",
        "\n",
        "6.**Free** : Considering the wide applicability and usage of\n",
        "Python, it is hard to believe that it continues to be freely\n",
        "available for easy download and use. This implies that anyone\n",
        "looking to learn or use Python can simply download and use it\n",
        "for their applications completely free of charge. Python is\n",
        "indeed a perfect example of a \"FLOSS (Free/Libre Open\n",
        "Source Software)”, which means one could \"freely distribute\n",
        "copies of this software, read its source code and modify it”.\n",
        "\n",
        "7.**Supports managing of exceptions** : An \"exception\" can\n",
        "be defined as \"an event that can occur during program\n",
        "exception and can disrupt the normal flow of program”. Python\n",
        "is capable of supporting handling of these \"exceptions”,\n",
        "implying that you could write fewer error-prone codes and test\n",
        "your code with a variety of cases, which could potentially lead\n",
        "to an \"exception\" in the future.\n",
        "\n",
        "8.**Advanced Features** : Python can also support\n",
        "\"generators and list comprehensions”. ⠀ Storage governance :Python is also able to support \"automatic memory\n",
        "management”, which implies that the storage memory will be\n",
        "cleared and made available automatically. You are not required\n",
        "to clear and free up the system memory."
      ]
    },
    {
      "cell_type": "markdown",
      "metadata": {
        "id": "s6vYM5d4WLRt"
      },
      "source": [
        "#Python Coding Basic"
      ]
    },
    {
      "cell_type": "markdown",
      "metadata": {
        "id": "khNDV054ximV"
      },
      "source": [
        "Indentation – To understand the Python coding structure, you must first\n",
        "understand the significance of indentation or the number of spaces before\n",
        "you start typing the code. Unlike other coding languages where\n",
        "“indentation” is added to enhance the readability of the code, in Python, it is\n",
        "used to indicate a set of code. For example, look at the code below\n",
        "\n",
        "\n",
        "```\n",
        "If 7 > 4:\n",
        "    print (‘Seven is greater than 4’)\n",
        "```\n",
        "\n",
        "\n",
        "There is indentation prior to the second line of code with the print\n",
        "command. If you skip the indentation and write the code as below, you will\n",
        "receive an error:\n",
        "\n",
        "\n",
        "```\n",
        "If 7 > 4:\n",
        "print (‘Seven is greater than 4’)\n",
        "```\n",
        "\n",
        "The number of spaces can be adjusted but must be at least single-spaced.\n",
        "For example, you can execute the code below with higher indentation, but\n",
        "for a specific set of code same number of spaces must be used, or you will\n",
        "receive an error.\n",
        "\n",
        "\n",
        "```\n",
        "If 7 > 4:\n",
        "              print (‘Seven is greater than 4’)\n",
        "```\n",
        "\n",
        "\n",
        "Adding Comments – In Python, you can add comments to the code by\n",
        "starting the code comment lines with a “#”, as shown in the example below:\n",
        "\n",
        "\n",
        "```\n",
        "#Add any relevant comment here\n",
        "print (‘Planet Earth’ )\n",
        "```\n",
        "\n",
        "\n",
        "\n",
        "\n",
        "Comments are also used as a description of the code and not executed by the Python terminal. It is important to remember that if you put a comment at the end of code like the entire code line will be skipped by the Python terminal, as shown in the code below. Comments are extremely useful in case you need to stop the execution when you are testing the code.\n",
        "\n",
        "\n",
        "\n",
        "```\n",
        "print (‘Planet Earth’) #Add comments here\n",
        "```\n",
        "\n",
        "\n",
        "\n",
        "You can also add multiple lines of comments by starting each code line\n",
        "with “#”, as shown below:\n",
        "\n",
        "\n",
        "\n",
        "```\n",
        "#Add comment here\n",
        "#Supplement the comment here\n",
        "#Further add the comment here\n",
        "\n",
        "print (‘Planet Earth’)\n",
        "```\n",
        "\n",
        "\n",
        "\n",
        "##Python Variables\n",
        "There are certain rules applied to the Python variable names as follows:\n",
        "1. Variable names can be short as single alphabets or more\n",
        "descriptive words like height, weight, etc\n",
        "2. Variable names can only be started with an underscore\n",
        "character or a letter.\n",
        "3. Variable names must not start with numbers.\n",
        "4. Variable names may contain underscores or alphanumeric\n",
        "characters. No other special characters are allowed.\n",
        "5. Variable names are case sensitive. For example, ‘height,’\n",
        "‘Height’ and ‘HEIGHT’ will be accounted as 3 separate\n",
        "variables.\n",
        "\n",
        "###Output Variables\n",
        "In order to retrieve variables as output, the “print” statements are used in\n",
        "Python. You can use the “+” character to combine text with a variable for\n",
        "final output, as shown in the example below:\n",
        "\n",
        "```\n",
        "‘A = ‘red’\n",
        "print (‘Apples are’ + A)’\n",
        "##OUTPUT – ‘Apples are red’\n",
        "```\n",
        "\n",
        "\n",
        "A variable can also be combined with another variable using the “+”\n",
        "character, as shown in the example below\n",
        "\n",
        "```\n",
        "‘A = ‘Apples are’\n",
        "B = ‘red’\n",
        "AB = A + B\n",
        "print (AB)’\n",
        "## OUTPUT – ‘Apples are red’\n",
        "```\n",
        "\n",
        "However, when the “+” character is used with numeric values, it retains\n",
        "its function as a mathematical operator, as shown in the example below:\n",
        "\n",
        "```\n",
        "‘A = 20\n",
        "B = 30\n",
        "print (A + B)’\n",
        "## OUTPUT = 5 0\n",
        "```\n",
        "\n",
        "You will not be able to combine a string of characters with numbers and\n",
        "will trigger an error instead, as shown in the example below:\n",
        "```\n",
        "A = ‘red’\n",
        "B = 30\n",
        "print (A + B)\n",
        "##OUTPUT – N/A – ERROR\n",
        "```"
      ]
    },
    {
      "cell_type": "markdown",
      "metadata": {
        "id": "fkzyr64z5ayo"
      },
      "source": [
        "In the previous chapter, you learned the basics of Python syntax, the\n",
        "concept of Python Variables, and Comments that serve as a prerequisite to\n",
        "the learning of Python programming. In this chapter, we will be looking at\n",
        "the nuances of how to write efficient and effective Python codes, focusing\n",
        "on various programming elements such as Booleans, Tuples, Sets,\n",
        "Dictionaries and much more. So let’s get started.\n",
        "\n"
      ]
    },
    {
      "cell_type": "markdown",
      "metadata": {
        "id": "m4haEdGWJERh"
      },
      "source": [
        "##Python Numbers\n",
        "In Python programming, you will be working with 3 different numeric\n",
        "data types, namely, “int”, “float”, and “complex”. In the previous chapter,\n",
        "you learned the details of what these data types entail, but below are some\n",
        "examples to refresh your memory.\n",
        "\n",
        "####Data Type\n",
        "#####Int\n",
        "(Must be a whole number, positive or negative with no\n",
        "decimals, no length restrictions). Example: 363 or 3.214\n",
        "#####Float\n",
        "(Floating point number must be a positive or negative\n",
        "number with one or more decimals; maybe scientific number an\n",
        "“e” to specify an exponential power of 10). Example: 29e3\n",
        "######Complex\n",
        "(Must be written with a “j” as an imaginary character). Example: 92j"
      ]
    },
    {
      "cell_type": "markdown",
      "metadata": {
        "id": "CIA7uW5_ZntX"
      },
      "source": [
        "> Excercise\n",
        "1. Create variable “a” with data value as “3.24”, variable\n",
        "“b” with data value as “9e3” and variable “c” with data value as “-39j”."
      ]
    },
    {
      "cell_type": "code",
      "execution_count": null,
      "metadata": {
        "id": "MEXfM9agJxg3"
      },
      "outputs": [],
      "source": [
        "a = 3.24 # int\n",
        "b = 9e3 # float\n",
        "c = -39j # complex\n",
        "print (type (a) )\n",
        "print (type (b))\n",
        "print (type (c))"
      ]
    },
    {
      "cell_type": "markdown",
      "metadata": {
        "id": "D5S2V65GJ_W2"
      },
      "source": [
        "###Converting one numeric data type to another\n",
        "As all Python variables are dynamic in nature, you will be able to\n",
        "convert the data type of these variables if needed by deriving a new variable\n",
        "from the variable that you would like to assign a new data type."
      ]
    },
    {
      "cell_type": "code",
      "execution_count": null,
      "metadata": {
        "id": "g5IsT1M1J-3O"
      },
      "outputs": [],
      "source": [
        "a = 3.24 # int\n",
        "b = 9e3 # float\n",
        "c = -39j # complex\n",
        "#conversion from int to float\n",
        "x = float (a)\n",
        "#conversion from float to complex\n",
        "y = complex (b )\n",
        "#conversion from complex to int\n",
        "z = float (c)\n",
        "#conversion from int to complex\n",
        "x1 = int (a)\n",
        "print (x)\n",
        "print (y)\n",
        "print (z)\n",
        "print (x1)\n",
        "print (type (x))\n",
        "print (type (y))\n",
        "print (type (z))\n",
        "print (type (x1))"
      ]
    },
    {
      "cell_type": "code",
      "execution_count": null,
      "metadata": {
        "id": "NuoySWb6LVi7"
      },
      "outputs": [],
      "source": [
        "#View a random number between 14 and 24 by importing\n",
        "the random module\n",
        "import rando m\n",
        "print (random.randrange (14, 24))"
      ]
    },
    {
      "cell_type": "markdown",
      "metadata": {
        "id": "VLH-iSW8Ley8"
      },
      "source": [
        "###Variable Casting with Constructor Functions\n",
        "In the discussion and exercise above, you learned that variables could be\n",
        "declared by simply assigning desired data value to them, and thereby, the\n",
        "variables will assume the pertinent data type based on the data value.\n",
        "However, Python allows you to specify the data types for variables by using\n",
        "classes or “constructor functions” to define the data type for variables. This\n",
        "process is called “Casting”.\n",
        "\n",
        "Here are the 3 constructor functions used for “casting” numeric data type\n",
        "to a variable.\n",
        "####Constructor Functions - Data Type\n",
        "int () - Will construct an integer number from an integer literal, a\n",
        "string literal (provided the string is representing a whole\n",
        "number) or a float literal (by rounding down to the preceding\n",
        "whole number)\n",
        "\n",
        "float () -  Will construct a float number from a string literal (provided\n",
        "the string is representing a float or an integer), a float literal or\n",
        "an integer literal\n",
        "\n",
        "complex () - Will construct a string from a large number of data types,\n",
        "such as integer literals, float literals, and strings\n",
        "\n"
      ]
    },
    {
      "cell_type": "code",
      "execution_count": null,
      "metadata": {
        "id": "mZo6C9X0LeYx"
      },
      "outputs": [],
      "source": [
        "#Here are some examples:\n",
        "#Integer:\n",
        "a = int (6) # a takes the value 6\n",
        "b = int (4.6) # b takes the value 4\n",
        "c = int (‘7’) # c takes the value 7\n",
        "\n",
        "#Float:\n",
        "a = float (6) # a takes the value 6.0\n",
        "b = float (4.6) # b takes the value 4.6\n",
        "c = float (‘7’) # c takes the value 7.0\n",
        "\n",
        "#String:\n",
        "a = str (‘serial’) # a takes the value ‘serial’\n",
        "b = str (4.6) # b takes the value ‘4.6’\n",
        "c = str (‘7’) # c takes the value ‘7.0 ’"
      ]
    },
    {
      "cell_type": "markdown",
      "metadata": {
        "id": "hSsjXLgGMCdu"
      },
      "source": [
        "##Python Strings\n",
        "In Python, string data type for a variable is denoted by using single,\n",
        "double, or triple quotation marks. This implies that you can assign string\n",
        "data value to variable by quoting the string of characters. For example,\n",
        "“welcome” is the same as ‘welcome’ and ‘‘‘welcome’’’."
      ]
    },
    {
      "cell_type": "markdown",
      "metadata": {
        "id": "W5zXiBbFZQ8z"
      },
      "source": [
        "> Excercise\n",
        "1. Create a variable “v” with a string data value as “outfit is\n",
        "cyan” and display it.\n",
        "2. Create a variable “A” with a multiple-line string data\n",
        "value as “Looking at the sky tonight, thinking of you by my side! Let the world go on and on; it will be alright if I stay strong!” and display it."
      ]
    },
    {
      "cell_type": "code",
      "execution_count": null,
      "metadata": {
        "id": "lPtk8X0wMBxR"
      },
      "outputs": [],
      "source": [
        "v = ‘outfit is cyan’\n",
        "print (v)"
      ]
    },
    {
      "cell_type": "code",
      "execution_count": null,
      "metadata": {
        "id": "BHuSo7qmMTtb"
      },
      "outputs": [],
      "source": [
        "a = ‘‘‘Loving another is never easy,\n",
        "People tell you it won’t be breezy!You make your own decision,\n",
        "Don’t let the fear stop you from your persuasion! ’’’\n",
        "print (a)"
      ]
    },
    {
      "cell_type": "markdown",
      "metadata": {
        "id": "xYWmkVfUMdFc"
      },
      "source": [
        "##String Arrays\n",
        "In Python, string data values are arrays of bytes that represent Unicode\n",
        "characters as true for most programming languages. But unlike other\n",
        "programming languages, Python lacks data type for individual characters,\n",
        "which are denoted as string data type with length of 1.\n",
        "\n",
        "The first character of every string is given the position of ‘0’, and\n",
        "subsequently, the subsequent characters will have the position as 1, 2, 3,\n",
        "and so on. In order to display desired characters from a string data value,\n",
        "you can use the position of the character enclosed in square brackets. For\n",
        "example, if you wanted to display the fifth character of the string data value\n",
        "“apple” of variable “x”. You will use the command “print (x [4])”"
      ]
    },
    {
      "cell_type": "markdown",
      "metadata": {
        "id": "cFtTKxtRZJXS"
      },
      "source": [
        "> Excercise\n",
        "1. Create a variable “P” with a string data value as\n",
        "“brilliant” and display the fourth character of this string"
      ]
    },
    {
      "cell_type": "code",
      "execution_count": null,
      "metadata": {
        "id": "u1zWwPpHMrp9"
      },
      "outputs": [],
      "source": [
        "P = ‘brilliant’\n",
        "print (P [4])"
      ]
    },
    {
      "cell_type": "markdown",
      "metadata": {
        "id": "EWLgLucRMwOK"
      },
      "source": [
        "##Slicing\n",
        "If you would like to view a range of characters, you can do so by\n",
        "specifying the start and the end index of the desired positions and\n",
        "separating the indexes by a colon. For example, to view characters of a\n",
        "string from position 1 to position 3, your code will be “print (variable\n",
        "[1:3])” .\n",
        "\n",
        "You can even view the characters starting from the end of the string by\n",
        "using “negative indexes” and start slicing the string from the end of the\n",
        "string. For example, to view characters of a string from position 4 to\n",
        "position 1, your code will be “print (variable [-4 : -2])”.\n",
        "\n",
        "In order to view the length of the string, you can use the “len ()”\n",
        "function. For example, to view the length of a string, your code will be\n",
        "“print (len (variable))”"
      ]
    },
    {
      "cell_type": "markdown",
      "metadata": {
        "id": "Lb1lS0a_YzPs"
      },
      "source": [
        "> Excercise\n",
        "1. Create a variable “P” with a string data value as “strive\n",
        "for success!” and display characters from position 3 to 6 of this string.\n",
        "2. Create a variable “x” with a string data value as “coding\n",
        "is cool” and display characters from position 6 to 1, starting the count from the end of this string. \n",
        "3. Create a variable “z” with a string data value as\n",
        "“programming champ” and display the length of this string ."
      ]
    },
    {
      "cell_type": "code",
      "execution_count": null,
      "metadata": {
        "id": "bJEM96sWM3Pr"
      },
      "outputs": [],
      "source": [
        "P = ‘ strive for success!’\n",
        "print (P [4 : 7])"
      ]
    },
    {
      "cell_type": "code",
      "execution_count": null,
      "metadata": {
        "id": "c-9AjGGqM8Zh"
      },
      "outputs": [],
      "source": [
        "x = ‘ coding is cool’\n",
        "print (x [-6 : -2])"
      ]
    },
    {
      "cell_type": "code",
      "execution_count": null,
      "metadata": {
        "id": "zEQFNldtM-6M"
      },
      "outputs": [],
      "source": [
        "z = ‘ programming champ’\n",
        "print (len (z))"
      ]
    },
    {
      "cell_type": "markdown",
      "metadata": {
        "id": "SPNaR2LgM2c5"
      },
      "source": [
        "##String Methods\n",
        "There are various built-in methods in Python that can be applied to string\n",
        "data values. Here are the Python codes for some of the most frequently used\n",
        "string methods, using variable “P = ‘roses are red!’” ."
      ]
    },
    {
      "cell_type": "code",
      "execution_count": null,
      "metadata": {
        "id": "Z98EXThPNHG9"
      },
      "outputs": [],
      "source": [
        "#“strip ()” method – To remove any blank spaces at the start and the end of the string.\n",
        "P = “ roses are red! ”\n",
        "print (P.strip ())"
      ]
    },
    {
      "cell_type": "code",
      "execution_count": null,
      "metadata": {
        "id": "4UHmd_eBNSIC"
      },
      "outputs": [],
      "source": [
        "#“lower ()” method – To result in all the characters of a string in lower case.\n",
        "P = “ROSES are RED!”\n",
        "print (P.lower ())\n",
        "OUTPUT – roses are red!"
      ]
    },
    {
      "cell_type": "code",
      "execution_count": null,
      "metadata": {
        "id": "QHPihSeGOiLe"
      },
      "outputs": [],
      "source": [
        "#“replace ()” method – To replace select characters of a string.\n",
        "P = “roses are red!”\n",
        "print (P.replace (“roses”, “apples”))\n",
        "OUTPUT – apples are red!"
      ]
    },
    {
      "cell_type": "code",
      "execution_count": null,
      "metadata": {
        "id": "-4Zd97mQOrVZ"
      },
      "outputs": [],
      "source": [
        "#“split ()” method – To split a string into substrings using comma as the separator .\n",
        "P = “Roses, Apples”\n",
        "print (P.split (““,))"
      ]
    },
    {
      "cell_type": "markdown",
      "metadata": {
        "id": "q1PrZazTMAaP"
      },
      "source": [
        "##String Concatenation\n",
        "There might be instances when you need to collate different string\n",
        "variables. This can be accomplished with the use of the “+” logical\n",
        "operator. Here’s the syntax for this Python code:"
      ]
    },
    {
      "cell_type": "code",
      "execution_count": null,
      "metadata": {
        "id": "NUV47Y6uOxhI"
      },
      "outputs": [],
      "source": [
        "X = “string1”\n",
        "Y = “string2”\n",
        "Z = X + Y\n",
        "print (Z)"
      ]
    },
    {
      "cell_type": "markdown",
      "metadata": {
        "id": "jmNFGn3DO2Q7"
      },
      "source": [
        "Similarly, below is the syntax to insert a blank space between two\n",
        "different string variables."
      ]
    },
    {
      "cell_type": "code",
      "execution_count": null,
      "metadata": {
        "id": "HESBht5vO1L2"
      },
      "outputs": [],
      "source": [
        "X = “string1”\n",
        "Y = “string2”\n",
        "Z = X + “ ” + Y\n",
        "print (Z )"
      ]
    },
    {
      "cell_type": "markdown",
      "metadata": {
        "id": "i3iosRcWO9gf"
      },
      "source": [
        "However, Python does not permit the concatenation of string variables\n",
        "with numeric variables. But can be accomplished with the use of the\n",
        "“format ()” method, which will format the executed arguments and placethem in the string where the placeholders “{ }” are used. Here’s the syntax\n",
        "for this Python code:"
      ]
    },
    {
      "cell_type": "code",
      "execution_count": null,
      "metadata": {
        "id": "8l6JYAwYPA0q"
      },
      "outputs": [],
      "source": [
        "X = numeric\n",
        "Y = “String”\n",
        "print (Y. format (X))"
      ]
    },
    {
      "cell_type": "markdown",
      "metadata": {
        "id": "AKWlDl3iYozW"
      },
      "source": [
        "> Excercise"
      ]
    },
    {
      "cell_type": "code",
      "execution_count": null,
      "metadata": {
        "id": "M9NpSZH-PIkc"
      },
      "outputs": [],
      "source": [
        "#Create two variables “A” and “B” with string data values\n",
        "#as “Let’s have” and “some pizza!” and display them as a concatenated string.\n",
        "A = “Let’s have”\n",
        "B = “some pizza!”\n",
        "C = A + B\n",
        "print (C )"
      ]
    },
    {
      "cell_type": "code",
      "execution_count": null,
      "metadata": {
        "id": "POp0bCNpPUIp"
      },
      "outputs": [],
      "source": [
        "#Create two variables “A” with string data values as “her\n",
        "#lucky number is” and “B” with numeric data value as “18” and display\n",
        "#them as a concatenated string\n",
        "\n",
        "A = “her lucky number is”\n",
        "B = “18”\n",
        "print (A. format (B))"
      ]
    },
    {
      "cell_type": "markdown",
      "metadata": {
        "id": "mDkymJnNPH1L"
      },
      "source": [
        "##Python Booleans\n",
        "In the process of developing a software program, there is often a need to\n",
        "confirm and verify whether an expression is true or false. This is where\n",
        "Python Boolean data type and data values are used. In Python, comparison\n",
        "and evaluation of two data values will result in one of the two Boolean\n",
        "values: “True” or “False”.\n",
        "\n",
        "Here are some examples of comparison statement of numeric data\n",
        "leading to Boolean value:"
      ]
    },
    {
      "cell_type": "code",
      "execution_count": null,
      "metadata": {
        "id": "1gIzdWw9P00U"
      },
      "outputs": [],
      "source": [
        "print (100 > 90)\n",
        "#OUTPUT – True\n",
        "print (100 == 90)\n",
        "#OUTPUT – False\n",
        "print (100 < 90)\n",
        "#OUTPUT – False"
      ]
    },
    {
      "cell_type": "markdown",
      "metadata": {
        "id": "HSUnvcKRP51q"
      },
      "source": [
        "Let’s look at the “bool ()” function now, which allows for the evaluation\n",
        "of numeric data as well as string data resulting in “True” or “False”\n",
        "Boolean values."
      ]
    },
    {
      "cell_type": "code",
      "execution_count": null,
      "metadata": {
        "id": "6R3Cq4OeP9qz"
      },
      "outputs": [],
      "source": [
        "print (bool (99) )\n",
        "#OUTPUT - True\n",
        "print (bool (“Welcome”))\n",
        "#OUTPUT - True"
      ]
    },
    {
      "cell_type": "markdown",
      "metadata": {
        "id": "UpkMppiyPB6q"
      },
      "source": [
        "Here are some key points to remember for Booleans:\n",
        "\n",
        "1. If a statement has some kind of content, it would be evaluated as “True”.\n",
        "2. All string data values will be resulting as “True” unless the string is empty.\n",
        "3. All numeric values will be resulting as “True” except “0”\n",
        "4. Lists, Tuples, Set, and Dictionaries will be resulting as “True” unless they are empty.\n",
        "5. Mostly empty values like (), [], {}, “”, False, None and 0 will be resulting as “False”.\n",
        "6. Any object created with the “_len_” function that result in the data value as “0” or “False” will be evaluated as “False”.\n",
        "\n",
        "In Python there are various built-in functions function that can be evaluated as Boolean, for example, the “isinstance()” function, which allows you to determine the data type of an object. Therefore, in order to check if an object is integer, the code will be as below:"
      ]
    },
    {
      "cell_type": "code",
      "execution_count": null,
      "metadata": {
        "id": "qY1MkokbRPgw"
      },
      "outputs": [],
      "source": [
        "X = 123\n",
        "print (isinstance (X, int))"
      ]
    },
    {
      "cell_type": "markdown",
      "metadata": {
        "id": "EBEQNp_YQ5n0"
      },
      "source": [
        "> Excersie\n",
        "1. Create two variables “X” with string data values as “Just\n",
        "do it!” and “Y” with numeric data value as “3.24” and evaluate them."
      ]
    },
    {
      "cell_type": "code",
      "execution_count": null,
      "metadata": {
        "id": "kuVK8ZQSRZw3"
      },
      "outputs": [],
      "source": [
        "X = “Just do it!”\n",
        "Y = 3.24\n",
        "print (bool (X))\n",
        "print (bool (Y)"
      ]
    },
    {
      "cell_type": "markdown",
      "metadata": {
        "id": "qSb5eOpfRdUJ"
      },
      "source": [
        "##Python Lists\n",
        "In Python, lists are collections of data types that can be changed,\n",
        "organized, and include duplicate values. Lists are written within square\n",
        "brackets, as shown in the syntax below.\n"
      ]
    },
    {
      "cell_type": "code",
      "execution_count": null,
      "metadata": {
        "id": "hWRbKvGcRggm"
      },
      "outputs": [],
      "source": [
        "X = [“string001”, “string002”, “string003”]\n",
        "print (X)"
      ]
    },
    {
      "cell_type": "markdown",
      "metadata": {
        "id": "3nmPgghfRlrQ"
      },
      "source": [
        "The same concept of position applies to Lists as the string data type,\n",
        "which dictates that the first string is considered to be at position 0.\n",
        "Subsequently, the strings that will follow are given positions 1, 2, and so on.\n",
        "You can selectively display desired string from a List by referencing the\n",
        "position of that string inside square bracket in the print command, as shown\n",
        "below.\n"
      ]
    },
    {
      "cell_type": "code",
      "execution_count": null,
      "metadata": {
        "id": "a53PkkgLRpmk"
      },
      "outputs": [],
      "source": [
        "X = [“string001”, “string002”, “string003”]\n",
        "print (X [2]) #OUTPUT – [string003]"
      ]
    },
    {
      "cell_type": "code",
      "execution_count": null,
      "metadata": {
        "id": "YWSzi0q7RucN"
      },
      "outputs": [],
      "source": [
        "#Similarly, the concept of negative indexing is also applied to Python List.\n",
        "X = [“string001”, “string002”, “string003”]\n",
        "print (X [-2]) #OUTPUT – [string002]\n"
      ]
    },
    {
      "cell_type": "markdown",
      "metadata": {
        "id": "wk6HhFuVR6iq"
      },
      "source": [
        "You will also be able to specify a **range of indexes** by indicating the\n",
        "start and end of a range. The result in values of such command on a Python\n",
        "List would be a new List containing only the indicated items. Here is an\n",
        "example for your reference"
      ]
    },
    {
      "cell_type": "code",
      "execution_count": null,
      "metadata": {
        "id": "d30jINF1SAwT"
      },
      "outputs": [],
      "source": [
        "X = [“string001”, “string002”, “string003”, “string004”, “string005”,“string006”]\n",
        "print (X [2 : 4]) #OUTPUT – [“string003”, “string004”]\n",
        "\n",
        "#* Remember the first item is at position 0, and the final position of the range (4) is not included."
      ]
    },
    {
      "cell_type": "code",
      "execution_count": null,
      "metadata": {
        "id": "mcfYZ7HwSvjv"
      },
      "outputs": [],
      "source": [
        "#Now, if you do not indicate the start of this range, it will default to the position 0 as shown in the example below:\n",
        "X = [“string001”, “string002”, “string003”, “string004”, “string005”,“string006”]\n",
        "print (X [ : 3] )\n",
        "#OUTPUT – [“string001”, “string002”, “string003”]"
      ]
    },
    {
      "cell_type": "code",
      "execution_count": null,
      "metadata": {
        "id": "ILTMMfkCS9nS"
      },
      "outputs": [],
      "source": [
        "#Similarly, if you do not indicate the end of this range it will display all\n",
        "#the items of the List from the indicated start range to the end of the List, as\n",
        "#shown in the example below:\n",
        "X = [“string001”, “string002”, “string003”, “string004”, “string005”,\n",
        "“string006”]\n",
        "print (X [3 : ])\n",
        "#OUTPUT – [“string004”, “string005”, “string006”]"
      ]
    },
    {
      "cell_type": "markdown",
      "metadata": {
        "id": "CAGYzrSUTDjW"
      },
      "source": [
        "You can also specify a **range of negative indexes** to Python Lists, as\n",
        "shown in the example below:"
      ]
    },
    {
      "cell_type": "code",
      "execution_count": null,
      "metadata": {
        "id": "dl_Enf6kTC4R"
      },
      "outputs": [],
      "source": [
        "X = [“string001”, “string002”, “string003”, “string004”, “string005”,\n",
        "“string006”]\n",
        "print (X [-3 : -1]) #OUTPUT – [“string004”, “string005” ]\n",
        "#* Remember the last item is at position -1, and the final position of this range (-1) is not included in the Output."
      ]
    },
    {
      "cell_type": "markdown",
      "metadata": {
        "id": "jnnUxezzTXJU"
      },
      "source": [
        "There might be instances when you need to **change the data value** for a\n",
        "Python List. This can be accomplished by referring to the index number of\n",
        "that item and declaring the new value. Let’s look at the example below:\n"
      ]
    },
    {
      "cell_type": "code",
      "execution_count": null,
      "metadata": {
        "id": "ku6mqWgGTmXP"
      },
      "outputs": [],
      "source": [
        "X = [“string001”, “string002”, “string003”, “string004”, “string005”,“string006”]\n",
        "X [3] = “newstring”\n",
        "print (X)\n",
        "#OUTPUT – [“string001”, “string002”, “string003”, “newstring”,\n",
        "#“string005”, “string006”]"
      ]
    },
    {
      "cell_type": "markdown",
      "metadata": {
        "id": "i9OpZ-7wTj7Q"
      },
      "source": [
        "You can also determine the **length** of a Python List using the “len()”\n",
        "function, as shown in the example below:\n"
      ]
    },
    {
      "cell_type": "code",
      "execution_count": null,
      "metadata": {
        "id": "_-TgmnHrUGzi"
      },
      "outputs": [],
      "source": [
        "X = [“string001”, “string002”, “string003”, “string004”, “string005”,\n",
        "“string006”]\n",
        "print (len (X) )"
      ]
    },
    {
      "cell_type": "markdown",
      "metadata": {
        "id": "Eh_-WpACUPof"
      },
      "source": [
        "Python Lists can also be changed by **adding new items** to an existing\n",
        "list using the built-in “append ()” method, as shown in the example below:"
      ]
    },
    {
      "cell_type": "code",
      "execution_count": null,
      "metadata": {
        "id": "MSkcHoRYUdp8"
      },
      "outputs": [],
      "source": [
        "X = [“string001”, “string002”, “string003”, “string004”]\n",
        "X.append (“newstring”)\n",
        "print (X)\n",
        "#OUTPUT – [“string001”, “string002”, “string003”, “string004”, “newstring”]"
      ]
    },
    {
      "cell_type": "code",
      "execution_count": null,
      "metadata": {
        "id": "UEKWpP8EUnmW"
      },
      "outputs": [],
      "source": [
        "#You can also, add a new item to an existing Python List at a specific\n",
        "#position using the built-in “insert ()” method, as shown in the example below:\n",
        "X = [“string001”, “string002”, “string003”, “string004”]\n",
        "X.insert (2, “newstring”)\n",
        "print (X)\n",
        "#OUTPUT – [“string001”, “string002”, “newstring”, “string004”]"
      ]
    },
    {
      "cell_type": "code",
      "execution_count": null,
      "metadata": {
        "id": "-ijN7CDdUyP3"
      },
      "outputs": [],
      "source": [
        "#There might be instances when you need to copy an existing Python\n",
        "#List. This can be accomplished by using the built-in “copy ( )” method or\n",
        "#the “list ( )” method, as shown in the example below:\n",
        "X = [“string001”, “string002”, “string003”, “string004”, “string005”,\n",
        "“string006”]\n",
        "Y = X.copy( )\n",
        "print (Y)\n",
        "# Y sama dengan x"
      ]
    },
    {
      "cell_type": "code",
      "execution_count": null,
      "metadata": {
        "id": "WD_avt8BVHqW"
      },
      "outputs": [],
      "source": [
        "#alternatif\n",
        "X = [“string001”, “string002”, “string003”, “string004”, “string005”,\n",
        "“string006”]\n",
        "Y = list (X)\n",
        "print (Y)"
      ]
    },
    {
      "cell_type": "markdown",
      "metadata": {
        "id": "uk-Lj3M-VMx3"
      },
      "source": [
        "> There are multiple built-in methods to **delete** items from a Python List"
      ]
    },
    {
      "cell_type": "code",
      "execution_count": null,
      "metadata": {
        "id": "sdfoiMA4VLBz"
      },
      "outputs": [],
      "source": [
        "#> To selectively delete a specific item, the “remove ()” method can be used.\n",
        "X = [“string001”, “string002”, “string003”, “string004” ]\n",
        "X.remove (“string002”)\n",
        "print (X)"
      ]
    },
    {
      "cell_type": "code",
      "execution_count": null,
      "metadata": {
        "id": "Hu2eOgdaVTZE"
      },
      "outputs": [],
      "source": [
        "#> To delete a specific item from the List, the “pop ()” method\n",
        "#can be used with the position of the value. If no index has been\n",
        "#indicated, the last item of the index will be removed.\n",
        "X = [“string001”, “string002”, “string003”, “string004”]\n",
        "X.pop ( )\n",
        "print (X)"
      ]
    },
    {
      "cell_type": "code",
      "execution_count": null,
      "metadata": {
        "id": "9CyJe9uyVZbg"
      },
      "outputs": [],
      "source": [
        "#> To delete a specific index from the List, the “del ()” method\n",
        "#can be used, followed by the index within square brackets.\n",
        "X = [“string001”, “string002”, “string003”, “string004”]\n",
        "del X [2]\n",
        "print (X)"
      ]
    },
    {
      "cell_type": "code",
      "execution_count": null,
      "metadata": {
        "id": "uEi2m3SfVdbg"
      },
      "outputs": [],
      "source": [
        "#> To delete the entire List variable, the “del ()” method can be used, as shown below.\n",
        "X = [“string001”, “string002”, “string003”, “string004”]\n",
        "del X"
      ]
    },
    {
      "cell_type": "code",
      "execution_count": null,
      "metadata": {
        "id": "urJbMLwfVguz"
      },
      "outputs": [],
      "source": [
        "#> To delete all the string values from the List without deleting\n",
        "#the variable itself, the “clear ()” method can be used, as shown below.\n",
        "X = [“string001”, “string002”, “string003”, “string004”]\n",
        "X.clear()\n",
        "print (X)"
      ]
    },
    {
      "cell_type": "markdown",
      "metadata": {
        "id": "1Mx7CzaMVmar"
      },
      "source": [
        "##Concatenation of Lists\n",
        "You can join multiple lists with the use of the “+” logical operator or by\n",
        "adding all the items from one list to another using the “append ( )” method.\n",
        "The “extend ( )” method can be used to add a list at the end of another list.\n",
        "Let’s look at the examples below to understand these commands ."
      ]
    },
    {
      "cell_type": "code",
      "execution_count": null,
      "metadata": {
        "id": "C8ihCRtVXUFN"
      },
      "outputs": [],
      "source": [
        "X = [“string001”, “string002”, “string003”, “string004”]\n",
        "Y = [10, 20, 30, 40]\n",
        "Z = X + Y\n",
        "print (Z)\n",
        "#OUTPUT – [“string001”, “string002”, “string003”, “string004”, 10, 20,30, 40]\n"
      ]
    },
    {
      "cell_type": "code",
      "execution_count": null,
      "metadata": {
        "id": "7tuPVpGeXnhv"
      },
      "outputs": [],
      "source": [
        "X = [“string001”, “string002”, “string003”, “string004”]\n",
        "Y = [10, 20, 30, 40]\n",
        "For x in Y:\n",
        "X.append (x)\n",
        "print (X)\n",
        "#OUTPUT – [“string001”, “string002”, “string003”, “string004”, 10, 20, 30, 40]\n"
      ]
    },
    {
      "cell_type": "code",
      "execution_count": null,
      "metadata": {
        "id": "yhhqBP6cXprk"
      },
      "outputs": [],
      "source": [
        "X = [“string001”, “string002”, “string003”]\n",
        "Y = [10, 20, 30]X.extend (Y)\n",
        "print (X )\n",
        "#OUTPUT – [“string001”, “string002”, “string003”, 10, 20, 30]"
      ]
    },
    {
      "cell_type": "markdown",
      "metadata": {
        "id": "vNg-XghBX5zt"
      },
      "source": [
        "> Excercise\n",
        "1.   Create a list “A” with string data values as “red, olive,\n",
        "cyan, lilac, mustard” and display the item at -2 position.\n",
        "2.   Create a list “A” with string data values as “red, olive,\n",
        "cyan, lilac, mustard” and display the items ranging from the string on the second position to the end of the string.\n",
        "3. Create a list “A” with string data values as “red, olive,\n",
        "cyan, lilac, mustard” and replace the string “olive” to “teal”.\n",
        "4. Create a list “A” with string data values as “red, olive,\n",
        "cyan, lilac, mustard” and copy the list “A” to create list “B”.\n",
        "5. Create a list “A” with string data values as “red, olive,\n",
        "cyan, lilac, mustard” and delete the strings “red” and “lilac”\n",
        "\n"
      ]
    },
    {
      "cell_type": "code",
      "execution_count": null,
      "metadata": {
        "id": "yqUenNt1X8oK"
      },
      "outputs": [],
      "source": [
        "A = [“ red”, “olive”, “cyan”, “lilac”, “mustard”]\n",
        "print (A [-2])"
      ]
    },
    {
      "cell_type": "code",
      "execution_count": null,
      "metadata": {
        "id": "V3yMSW5_Z8ZU"
      },
      "outputs": [],
      "source": [
        "A = [“red”, “olive”, “cyan”, “lilac”, “mustard”]\n",
        "print (A [2 : ])"
      ]
    },
    {
      "cell_type": "code",
      "execution_count": null,
      "metadata": {
        "id": "k8vnXKBsaHZw"
      },
      "outputs": [],
      "source": [
        "A = [“red”, “olive”, “cyan”, “lilac”, “mustard”]\n",
        "A [1] = [“teal”]\n",
        "print (A)"
      ]
    },
    {
      "cell_type": "code",
      "execution_count": null,
      "metadata": {
        "id": "H9mHnom7aKs5"
      },
      "outputs": [],
      "source": [
        "A = [“red”, “olive”, “cyan”, “lilac”, “mustard”]\n",
        "B = A.copy ( )\n",
        "print (B)"
      ]
    },
    {
      "cell_type": "code",
      "execution_count": null,
      "metadata": {
        "id": "SiJvR8jXaUTA"
      },
      "outputs": [],
      "source": [
        "A = [“red”, “olive”, “cyan”, “lilac”, “mustard”]\n",
        "del.A [0, 2]\n",
        "print (A)"
      ]
    },
    {
      "cell_type": "markdown",
      "metadata": {
        "id": "XruXf3h0aWxD"
      },
      "source": [
        "##Python Tuples\n",
        "In Python, Tuples are collections of data types that cannot be changedbut can be arranged in specific order. Tuples allow for duplicate items andare written within round brackets, as shown in the syntax below.\n",
        "\n",
        "```\n",
        "Tuple = (“string001”, “string002”, “string003”)\n",
        "print (Tuple)\n",
        "```\n",
        "Similar to the Python List, you can selectively display the desired string\n",
        "from a Tuple by referencing the position of that string inside square bracket\n",
        "in the print command as shown below."
      ]
    },
    {
      "cell_type": "code",
      "execution_count": null,
      "metadata": {
        "id": "wfJJ2Vl_a5Am"
      },
      "outputs": [],
      "source": [
        "Tuple = (“string001”, “string002”, “string003”)\n",
        "print (Tuple [1])\n",
        "#OUTPUT – (“string002”)"
      ]
    },
    {
      "cell_type": "markdown",
      "metadata": {
        "id": "Zm-k2-bRa-UT"
      },
      "source": [
        "The concept of **negative indexing** can also be applied to Python Tuple, as shown in the example below:"
      ]
    },
    {
      "cell_type": "code",
      "execution_count": null,
      "metadata": {
        "id": "9D2Z66MabDhV"
      },
      "outputs": [],
      "source": [
        "Tuple = (“string001”, “string002”, “string003”, “string004”,\n",
        "“string005”)\n",
        "print (Tuple [-2] )\n",
        "#OUTPUT – (“string004”)"
      ]
    },
    {
      "cell_type": "markdown",
      "metadata": {
        "id": "zg3xYwEzbIMd"
      },
      "source": [
        "You will also be able to specify a **range of indexes** by indicating the start and end of a range. The result in values of such command on a Python Tuple would be a new Tuple containing only the indicated items, as shown\n",
        "in the example below:"
      ]
    },
    {
      "cell_type": "code",
      "execution_count": null,
      "metadata": {
        "id": "EJWDDZi3bH0X"
      },
      "outputs": [],
      "source": [
        "Tuple = (“string001”, “string002”, “string003”, “string004”,\n",
        "“string005”, “string006”)\n",
        "print (Tuple [1:5])\n",
        "#OUTPUT – (“string002”, “string003”, “string004”, “string005”)\n",
        "#* Remember the first item is at position 0 and the final position of the range,\n",
        "# which is the fifth position in this example, is not included."
      ]
    },
    {
      "cell_type": "markdown",
      "metadata": {
        "id": "hwsyqyGdbYjp"
      },
      "source": [
        "You can also specify a **range of negative indexes** to Python Tuples, as shown in the example below:"
      ]
    },
    {
      "cell_type": "code",
      "execution_count": null,
      "metadata": {
        "id": "-e1LH7Jybd41"
      },
      "outputs": [],
      "source": [
        "Tuple = (“string001”, “string002”, “string003”, “string004”,\n",
        "“string005”, “string006”)\n",
        "print (Tuple [-4: -2])\n",
        "#OUTPUT – (“string004”, “string005” )\n",
        "#* Remember the last item is at position -1 and the final position of this range,\n",
        "# which is the negative fourth position in this example is not included in the Output"
      ]
    },
    {
      "cell_type": "markdown",
      "metadata": {
        "id": "eo_lKteJbtAI"
      },
      "source": [
        "Unlike Python lists, you **cannot directly change the data value** of Python Tuples after they have been created. However, conversion of a Tuple into a List and then modifying the data value of that List will allow you to subsequently create a Tuple from that updated List. Let’s look at theexample below:"
      ]
    },
    {
      "cell_type": "code",
      "execution_count": null,
      "metadata": {
        "id": "scUV0ftRb2fg"
      },
      "outputs": [],
      "source": [
        "Tuple1 = (“string001”, “string002”, “string003”, “string004”,\n",
        "“string005”, “string006”)\n",
        "List1 = list (Tuple1)\n",
        "List1 [2] = “update this list to create new tuple”\n",
        "Tuple1 = tuple (List1)\n",
        "print (Tuple1)\n",
        "\n",
        "#OUTPUT – (“string001”, “string002”, “update this list to create new\n",
        "#tuple”, “string004”, “string005”, “string006” )"
      ]
    },
    {
      "cell_type": "markdown",
      "metadata": {
        "id": "IS2zbNgOb7z2"
      },
      "source": [
        "You can also determine the **length** of a Python Tuple using the “len()” function, as shown in the example below:"
      ]
    },
    {
      "cell_type": "code",
      "execution_count": null,
      "metadata": {
        "id": "bY0zuPbZcBOk"
      },
      "outputs": [],
      "source": [
        "Tuple = (“string001”, “string002”, “string003”, “string004”,\n",
        "“string005”, “string006”)\n",
        "print (len (Tuple))\n",
        "#OUTPUT – 6"
      ]
    },
    {
      "cell_type": "markdown",
      "metadata": {
        "id": "UI9AvcMpcah6"
      },
      "source": [
        "You cannot selectively delete items from a Tuple, but you can use the “del” keyword to **delete the Tuple** in its entirety, as shown in the example below:\n",
        "\n",
        "\n",
        "```\n",
        "Tuple = (“string001”, “string002”, “string003”, “string004”)\n",
        "del Tuple\n",
        "print (Tuple)\n",
        "OUTPUT – name ‘Tuple’ is not defined\n",
        "```\n",
        "You can **join multiple Tuples** with the use of the “+” logical operator.\n",
        "\n",
        "\n",
        "```\n",
        "Tuple1 = (“string001”, “string002”, “string003”, “string004”)\n",
        "Tuple2 = (100, 200, 300 )\n",
        "Tuple3 = Tuple1 + Tuple2\n",
        "print (Tuple3)\n",
        "OUTPUT – (“string001”, “string002”, “string003”, “string004”, 100, 200, 300)\n",
        "```\n",
        "\n",
        "\n",
        "You can also use the “tuple ( )” constructor to create a Tuple, as shown\n",
        "in the example below:"
      ]
    },
    {
      "cell_type": "code",
      "execution_count": null,
      "metadata": {
        "id": "WctEP2wIcpPd"
      },
      "outputs": [],
      "source": [
        "Tuple1 = tuple ((“string001”, “string002”, “string003”, “string004”))\n",
        "print (Tuple1)"
      ]
    },
    {
      "cell_type": "markdown",
      "metadata": {
        "id": "sCk1ndulcyar"
      },
      "source": [
        "> Excecise\n",
        "\n",
        "1. Create a Tuple “X” with string data values as “pies, cake,\n",
        "bread, scone, cookies” and display the item at -3 position.\n",
        "2. Create a Tuple “X” with string data values as “pies, cake,\n",
        "bread, scone, cookies” and display items ranging from -2 to -4.\n",
        "3. Create a Tuple “X” with string data values as “pies, cake,\n",
        "bread, scone, cookies” and change its item from “cookies” to “tart” usingList function.\n",
        "4. Create a Tuple “X” with string data values as “pies, cake,\n",
        "cookies” and another Tuple “Y” with numeric data values as (2, 12, 22),\n",
        "then join them together."
      ]
    },
    {
      "cell_type": "code",
      "execution_count": null,
      "metadata": {
        "id": "zjlroQGBdERY"
      },
      "outputs": [],
      "source": [
        "X = (“pies”, “cake”, “bread”, “scone”, “cookies”)\n",
        "print (X [-3])\n",
        "#OUTPUT – (“bread”)"
      ]
    },
    {
      "cell_type": "code",
      "execution_count": null,
      "metadata": {
        "id": "KHA6b1YXdNeV"
      },
      "outputs": [],
      "source": [
        "X = (“pies”, “cake”, “bread”, “scone”, “cookies”)\n",
        "print (X [-4 : -2])\n",
        "#OUTPUT – (“cake”, “bread”)"
      ]
    },
    {
      "cell_type": "code",
      "execution_count": null,
      "metadata": {
        "id": "9iLKxLiTdPgk"
      },
      "outputs": [],
      "source": [
        "X = (“pies”, “cake”, “bread”, “scone”, “cookies”)\n",
        "Y = list (X)\n",
        "Y [4] = “tart”\n",
        "X = tuple (Y)\n",
        "print (X)\n",
        "#OUTPUT – (“pies”, “cake”, “bread”, “scone”, “tart”)"
      ]
    },
    {
      "cell_type": "code",
      "execution_count": null,
      "metadata": {
        "id": "YV8bar2TdY2j"
      },
      "outputs": [],
      "source": [
        "X = (“pies”, “cake”, “cookies”)\n",
        "Y = (2, 12, 22)\n",
        "Z = X + Y\n",
        "print (Z )\n",
        "#OUTPUT – (“pies”, “cake”, “cookies”, 2, 12, 22)"
      ]
    },
    {
      "cell_type": "markdown",
      "metadata": {
        "id": "Qx6lhfjUdMwn"
      },
      "source": [
        "##Python Sets\n",
        "In Python, Sets are collections of data types that cannot be organized and indexed. Sets do not allow for duplicate items and must be written withincurly brackets, as shown in the syntax below:\n",
        "\n",
        "\n",
        "```\n",
        "set = {“string1”, “string2”, “string3”}\n",
        "print (set)\n",
        "```\n",
        "\n",
        "\n",
        "Unlike the Python List and Tuple, you cannot selectively display desired items from a Set by referencing the position of that item because the Python Set are not arranged in any order. Therefore, items do not have any indexing. However, the “for” loop can be used on Sets (more on this topic later in this chapter).\n",
        "Unlike Python Lists, you cannot directly change the data values of Python Sets after they have been created. However, you can use the “add()” method to add a single item to Set and use the “update ( )” method to one or more items to an already existing Set. Let’s look at the example below"
      ]
    },
    {
      "cell_type": "code",
      "execution_count": null,
      "metadata": {
        "id": "P8miOHcSd97a"
      },
      "outputs": [],
      "source": [
        "set = {“string1”, “string2”, “string3” }\n",
        "set. add (“newstring”)\n",
        "print (set)\n",
        "#OUTPUT – {“string1”, “string2”, “string3”, “newstring”}\n",
        "set = {“string1”, “string2”, “string3”}\n",
        "set. update ([“newstring1”, “newstring2”, “newstring3”,)\n",
        "print (set)\n",
        "#OUTPUT – {“string1”, “string2”, “string3”, “newstring1”, “newstring2”,\n",
        "“newstring3”}"
      ]
    },
    {
      "cell_type": "markdown",
      "metadata": {
        "id": "hnP0YnRqd9hO"
      },
      "source": [
        "You can also determine the **length** of a Python Set using the “len()” function, as shown in the example below:"
      ]
    },
    {
      "cell_type": "code",
      "execution_count": null,
      "metadata": {
        "id": "h-5MrKb2f2io"
      },
      "outputs": [],
      "source": [
        "set = {“string1”, “string2”, “string3”, “string4”, “string5”, “string6”,\n",
        "“string7”}\n",
        "print (len(set))\n",
        "#OUTPUT – 7"
      ]
    },
    {
      "cell_type": "markdown",
      "metadata": {
        "id": "w6TrMoYygNWW"
      },
      "source": [
        "To selectively **delete a specific item from a Set** , the “remove ()”method can be used as shown in the code below:"
      ]
    },
    {
      "cell_type": "code",
      "execution_count": null,
      "metadata": {
        "id": "aaFvGJGCgK3z"
      },
      "outputs": [],
      "source": [
        "\n",
        "set = {“string1”, “string2”, “string3”, “string4”, “string5”}\n",
        "set. remove (“string4”)\n",
        "print (set)\n",
        "OUTPUT – {“string1”, “string2”, “string3”, “string5” }"
      ]
    },
    {
      "cell_type": "markdown",
      "metadata": {
        "id": "9UNejMR_gRxA"
      },
      "source": [
        "You can also use the “discard ( )” method to delete specific items from aSet, as shown in the example below:\n"
      ]
    },
    {
      "cell_type": "code",
      "execution_count": null,
      "metadata": {
        "id": "asfufMFd7QRf"
      },
      "outputs": [],
      "source": [
        "set = {“string1”, “string2”, “string3”, “string4”, “string5”}\n",
        "set. discard (“string3”)\n",
        "print (set)\n",
        "#OUTPUT – {“string1”, “string2”, “string4”, “string5” }"
      ]
    },
    {
      "cell_type": "markdown",
      "metadata": {
        "id": "l7MQ-ifU7UIj"
      },
      "source": [
        "The “pop ( )” method can be used to selectively delete only the last item of a Set. It must be noted here that since the Python Sets are unordered, any item that the system deems as the last item will be removed. As a result, the output of this method will be the item that has been removed .\n"
      ]
    },
    {
      "cell_type": "code",
      "execution_count": null,
      "metadata": {
        "id": "5SnkkrHL7Yl9"
      },
      "outputs": [],
      "source": [
        "set = {“string1”, “string2”, “string3”, “string4”, “string5”}\n",
        "A = set.pop ( )\n",
        "print (A)\n",
        "print (set)\n",
        "#OUTPUT –String2{“string1”, “string3”, “string4”, “string5” }\n"
      ]
    },
    {
      "cell_type": "markdown",
      "metadata": {
        "id": "iXmcp1-W7dCn"
      },
      "source": [
        "To delete the entire Set, the “del” keyword can be used, as shown below."
      ]
    },
    {
      "cell_type": "code",
      "execution_count": null,
      "metadata": {
        "id": "xg7SolNC7e5D"
      },
      "outputs": [],
      "source": [
        "set = {“string1”, “string2”, “string3”, “string4”, “string5”}\n",
        "delete set\n",
        "print (set)\n",
        "#OUTPUT – name ‘set’ is not defined\n"
      ]
    },
    {
      "cell_type": "markdown",
      "metadata": {
        "id": "pncx1IMm7hW7"
      },
      "source": [
        "To delete all the items from the Set without deleting the variable itself,\n",
        "the “clear ()” method can be used, as shown below:"
      ]
    },
    {
      "cell_type": "code",
      "execution_count": null,
      "metadata": {
        "id": "mtT6FGay7j_9"
      },
      "outputs": [],
      "source": [
        "set = {“string1”, “string2”, “string3”, “string4”, “string5” }\n",
        "set.clear ( )\n",
        "print (set)\n",
        "#OUTPUT – set ( )"
      ]
    },
    {
      "cell_type": "markdown",
      "metadata": {
        "id": "aSY0Qaq3gWrV"
      },
      "source": [
        "You can join multiple Sets with the use of the “union ( )” method. The output of this method will be a new set that contains all items from both the sets. You can also use the “update ( )” method to insert all the items from one set into another without creating a new Set."
      ]
    },
    {
      "cell_type": "code",
      "execution_count": null,
      "metadata": {
        "id": "K8-WJyId7stv"
      },
      "outputs": [],
      "source": [
        "Set1 = {“string1”, “string2”, “string3”, “string4”, “string5”}\n",
        "Set2 = {15, 25, 35, 45, 55}\n",
        "Set3 = Set1.union (Set2)\n",
        "print (Set3)\n",
        "#OUTPUT – {“string1”, 15, “string2”, 25, “string3”, 35, “string4”, 45, “string5”, 55}\n"
      ]
    },
    {
      "cell_type": "code",
      "execution_count": null,
      "metadata": {
        "id": "_cj7rAp37xqP"
      },
      "outputs": [],
      "source": [
        "Set1 = {“string1”, “string2”, “string3”, “string4”, “string5”}\n",
        "Set2 = {15, 25, 35, 45, 55}\n",
        "Set1.update (Set2)\n",
        "print (Set1 )\n",
        "#OUTPUT – {25, “string1”, 15, “string4”,55, “string2”, 35, “string3”, 45, “string5”}\n"
      ]
    },
    {
      "cell_type": "code",
      "execution_count": null,
      "metadata": {
        "id": "qJRizmW_72gi"
      },
      "outputs": [],
      "source": [
        "#You can also use the “set ( )” constructor to create a Set, as shown in the example below:\n",
        "Set1 = set ((“string1”, “string2”, “string3”, “string4”, “string5”))\n",
        "print (Set1)\n",
        "#OUTPUT – {“string3”, “string5”, “string2”, “string4”, “string1”}"
      ]
    },
    {
      "cell_type": "markdown",
      "metadata": {
        "id": "aYAd4Xb7gal1"
      },
      "source": [
        "> Excercise\n",
        "1. Create a Set “Veg” with string data values as “pies, cake,\n",
        "bread, scone, cookies” and add new items “tart”, “custard” and “waffles” to this Set.\n",
        "2. Create a Set “Veg” with string data values as “pies, cake,\n",
        "bread, scone, cookies” and add new items “tart”, “custard” and “waffles” to\n",
        "this Set.\n",
        "3. Create a Set “Veg” with string data values as “pies, cake,\n",
        "bread, scone, cookies” and add new items “tart”, “custard” and “waffles” to\n",
        "this Set."
      ]
    },
    {
      "cell_type": "code",
      "execution_count": null,
      "metadata": {
        "id": "Qs9TAfB6gVu3"
      },
      "outputs": [],
      "source": [
        "Veg = {“pies”, “cake”, “bread”, “scone”, “cookies”}\n",
        "Veg.update ([ “tart”, “custard”, “waffles”])\n",
        "print (Veg )\n",
        "OUTPUT – {“pies”, “custard”, “scone”, “cake”, “bread”, “waffles”,\n",
        "“cookies”, “tart”}"
      ]
    },
    {
      "cell_type": "code",
      "execution_count": null,
      "metadata": {
        "id": "v8kaO1kO8DxK"
      },
      "outputs": [],
      "source": [
        "Veg = {“pies”, “cake”, “bread”, “scone”, “cookies”}\n",
        "Veg.update ([ “tart”, “custard”, “waffles”])\n",
        "print (Veg )\n",
        "OUTPUT – {“pies”, “custard”, “scone”, “cake”, “bread”, “waffles”,\n",
        "“cookies”, “tart”}"
      ]
    },
    {
      "cell_type": "code",
      "execution_count": null,
      "metadata": {
        "id": "-Qvh7DQm8Gh-"
      },
      "outputs": [],
      "source": [
        "Veg = {“pies”, “cake”, “bread”, “scone”, “cookies”}\n",
        "Veg2 = {“ tart”, “eggos”, “custard”, “waffles”}\n",
        "AllVeg = Veg.union (Veg2) #this Set name may vary as it has\n",
        "not been defined in the exercise\n",
        "print (AllVeg)\n",
        "OUTPUT – {“pies”, “custard”, “scone”, “cake”, “eggos”, “bread”,\n",
        "“waffles”, “cookies”, “tart”}"
      ]
    },
    {
      "cell_type": "markdown",
      "metadata": {
        "id": "YknqEc5h8Lhl"
      },
      "source": [
        "##Python Dictionary\n",
        "In Python, Dictionaries are collections of data types that can be changed\n",
        "and indexed but are not arranged in any order. Each item in a PythonDictionary will comprise a key and its value. Dictionaries do not allow for\n",
        "duplicate items and must be written within curly brackets, as shown in the\n",
        "syntax below:\n",
        "\n",
        "\n",
        "```\n",
        "dict = {\n",
        "“key01”: “value01”,\n",
        "“key02”: “value02”,\n",
        "“key03”: “value03”,\n",
        "}\n",
        "print (dict)\n",
        "```\n",
        "\n",
        "You can selectively display desired item value from a Dictionary by\n",
        "referencing its key inside square brackets in the print command as shown\n",
        "below:\n",
        "\n",
        "\n",
        "```\n",
        "dict = {\n",
        "“key01”: “value01”,\n",
        "“key02”: “value02”,\n",
        "“key03”: “value03”,\n",
        "}\n",
        "X = dict [“key02”]\n",
        "print (X)\n",
        "## OUTPUT – value0 2\n",
        "```\n",
        "\n",
        "\n",
        "\n",
        "You can also use the “get ( )” method to view the value of a key, as\n",
        "shown in the example below:\n",
        "\n",
        "\n",
        "```\n",
        "dict = {\n",
        "“key01”: “value01”,\n",
        "“key02”: “value02”,\n",
        "“key03”: “value03”,\n",
        "}\n",
        "X = dict.get (“key01”)\n",
        "print (X)\n",
        "##OUTPUT – value01\n",
        "```"
      ]
    },
    {
      "cell_type": "markdown",
      "metadata": {
        "id": "ebniV0Jr8js3"
      },
      "source": [
        "There might be instances when you need to **change the value** of a key in\n",
        "a Python Dictionary. This can be accomplished by referring to the key ofthat item and declaring the new value. Let’s look at the example below:"
      ]
    },
    {
      "cell_type": "code",
      "execution_count": null,
      "metadata": {
        "id": "khpDQ8eg8um8"
      },
      "outputs": [],
      "source": [
        "dict = {\n",
        "“key01”: “value01”,\n",
        "“key02”: “value02”,\n",
        "“key03”: “value03”,\n",
        "}\n",
        "dict [“key03”] = “NEWvalue”\n",
        "print (dict )\n",
        "#OUTPUT – {“key01”: “value01”, “key02”: “value02”, “key03”:“NEWvalue”}"
      ]
    },
    {
      "cell_type": "markdown",
      "metadata": {
        "id": "MXXInlcr9Qtj"
      },
      "source": [
        "You can also determine the **length** of a Python Dictionary using the\n"
      ]
    },
    {
      "cell_type": "code",
      "execution_count": null,
      "metadata": {
        "id": "nmiPDCwD9QUE"
      },
      "outputs": [],
      "source": [
        "“len()” function, as shown in the example below:\n",
        "dict = {\n",
        "“key01”: “value01”,\n",
        "“key02”: “value02”,\n",
        "“key03”: “value03”,\n",
        "“key04”: “value04”,\n",
        "“key05”: “value05”\n",
        "}\n",
        "print (len (dict))\n",
        "#OUTPUT – 5\n"
      ]
    },
    {
      "cell_type": "markdown",
      "metadata": {
        "id": "sNQ5L2Ve9XvA"
      },
      "source": [
        "Python Dictionary can also be changed by **adding** new index key and\n",
        "**assigning** a new value to that key, as shown in the example below:\n"
      ]
    },
    {
      "cell_type": "code",
      "execution_count": null,
      "metadata": {
        "id": "KKXIdn3c9Z0_"
      },
      "outputs": [],
      "source": [
        "dict = {\n",
        "“key01”: “value01”,\n",
        "“key02”: “value02”,\n",
        "“key03”: “value03”,\n",
        "}\n",
        "dict [“NEWkey”] = “NEWvalue”\n",
        "print (dict)\n",
        "#OUTPUT – {“key01”: “value01”, “key02”: “value02”, “key03”:“value03”, “NEWkey”: “NEWvalue”}\n"
      ]
    },
    {
      "cell_type": "markdown",
      "metadata": {
        "id": "WkxuUkK99hDt"
      },
      "source": [
        "> There are multiple built-in methods to **delete items** from a Python\n",
        "Dictionary. "
      ]
    },
    {
      "cell_type": "code",
      "execution_count": null,
      "metadata": {
        "id": "_LmnVOLQ-NSN"
      },
      "outputs": [],
      "source": [
        "#● To selectively delete a specific item value, the “pop ()”\n",
        "#method can be used with the indicated key name.\n",
        "dict = {\n",
        "“key01”: “value01”,\n",
        "“key02”: “value02”,\n",
        "“key03”: “value03”,\n",
        "}\n",
        "dict.pop (“key01”)\n",
        "print (dict )\n",
        "#OUTPUT – { “key02”: “value02”, “key03”: “value03”}"
      ]
    },
    {
      "cell_type": "code",
      "execution_count": null,
      "metadata": {
        "id": "8NIyCoNH-WJN"
      },
      "outputs": [],
      "source": [
        "#● To selectively delete the item value that was last inserted, the\n",
        "#“popitem ()” method can be used with the indicated key name.\n",
        "dict = {\n",
        "“key01”: “value01”,\n",
        "“key02”: “value02”,\n",
        "“key03”: “value03”,\n",
        "}\n",
        "dict.popitem ( )\n",
        "print (dict)\n",
        "#OUTPUT – { “key01”: “value01”, “key02”: “value02”}"
      ]
    },
    {
      "cell_type": "code",
      "execution_count": null,
      "metadata": {
        "id": "nAyrzbdR-caj"
      },
      "outputs": [],
      "source": [
        "#● To selectively delete a specific item value, the “del”\n",
        "#keyword can also be used with the indicated key name.\n",
        "dict = {\n",
        "“key01”: “value01” ,\n",
        "“key02”: “value02”,\n",
        "“key03”: “value03”,}\n",
        "del dict (“key03”)\n",
        "print (dict)\n",
        "#OUTPUT – { “key01”: “value01”, “key02”: “value02”}"
      ]
    },
    {
      "cell_type": "code",
      "execution_count": null,
      "metadata": {
        "id": "C2DSb78L-kJb"
      },
      "outputs": [],
      "source": [
        "#● To delete a Python Dictionary in its entirety, the “del”\n",
        "#keyword can also be used as shown in the example below:\n",
        "dict = {\n",
        "“key01”: “value01”,\n",
        "“key02”: “value02”,\n",
        "“key03”: “value03”,\n",
        "}\n",
        "del dict\n",
        "print (dict)\n",
        "#OUTPUT – name ‘dict’ is not defined"
      ]
    },
    {
      "cell_type": "code",
      "execution_count": null,
      "metadata": {
        "id": "NS1oefpS-oUa"
      },
      "outputs": [],
      "source": [
        "#● To delete all the items from the Dictionary without deleting\n",
        "#the Dictionary itself, the “clear ()” method can be used as shown below :\n",
        "dict = {\n",
        "“key01”: “value01”,\n",
        "“key02”: “value02”,\n",
        "“key03”: “value03”,\n",
        "}\n",
        "dict.clear ( )\n",
        "print (dict)\n",
        "OUTPUT – { }"
      ]
    },
    {
      "cell_type": "markdown",
      "metadata": {
        "id": "-iXekrMo-yMW"
      },
      "source": [
        "There might be instances when you need to copy an existing Python\n",
        "Dictionary. This can be accomplished by using the built-in “copy ( )”\n",
        "method or the “dict ( )” method, as shown in the examples below:\n"
      ]
    },
    {
      "cell_type": "code",
      "execution_count": null,
      "metadata": {
        "id": "UHyGlULq-0gK"
      },
      "outputs": [],
      "source": [
        "dict = {\n",
        "“key01”: “value01”,\n",
        "“key02”: “value02”,\n",
        "“key03”: “value03”,}\n",
        "newdict = dict.copy ( )\n",
        "print (newdict)\n",
        "#OUTPUT – {“key01”: “value01”, “key02”: “value02”, “key03”: “value03” }"
      ]
    },
    {
      "cell_type": "code",
      "execution_count": null,
      "metadata": {
        "id": "eKdYD3Lr_AzO"
      },
      "outputs": [],
      "source": [
        "Olddict = {\n",
        "“key01”: “value01”,\n",
        "“key02”: “value02”,\n",
        "“key03”: “value03”,\n",
        "}\n",
        "newdict = dict (Olddict )\n",
        "print (newdict)\n",
        "#OUTPUT – {“key01”: “value01”, “key02”: “value02”, “key03”:“value03”}"
      ]
    },
    {
      "cell_type": "markdown",
      "metadata": {
        "id": "ovAMAH-M--JS"
      },
      "source": [
        "There is a unique feature that supports multiple Python Dictionaries to\n",
        "be **nested** within another Python Dictionary. You can either create a\n",
        "Dictionary containing child Dictionaries, as shown in the example below:\n"
      ]
    },
    {
      "cell_type": "code",
      "execution_count": null,
      "metadata": {
        "id": "1QvnmV_P_IMa"
      },
      "outputs": [],
      "source": [
        "WendysFamilyDict = {\n",
        "“burger1” : {\n",
        "“name” : “Hamburger”,\n",
        "“price” : 2.99\n",
        "},\n",
        "“burger2” : {\n",
        "“name” : “Cheeseburger”,\n",
        "“price” : 5\n",
        "} ,\n",
        "“burger3” : {\n",
        "“name” : “Bigburger”,\n",
        "“price” : 1.99\n",
        "}}\n",
        "print (WendysFamilyDict)\n",
        "#OUTPUT - {“burger1” : { “name” : “Hamburger”, “price” : 2.99},\n",
        "#“burger2” : {“name” : “Cheeseburger”, “price” : 5}, “burger3” : {“name” :“Bigburger”, “price” : 1.99}}"
      ]
    },
    {
      "cell_type": "markdown",
      "metadata": {
        "id": "cE0xpsyX_Oz-"
      },
      "source": [
        "Or you can create a brand new Dictionary that contain other Dictionaries\n",
        "already existing on the system; your code will look like the one below:\n"
      ]
    },
    {
      "cell_type": "code",
      "execution_count": null,
      "metadata": {
        "id": "eoBHSJeE_OKr"
      },
      "outputs": [],
      "source": [
        "burgerDict1 : {\n",
        "“name” : “Hamburger”,\n",
        "“price” : 2.99\n",
        "}\n",
        "burgerDict2 : {\n",
        "“name” : “Cheeseburger”,\n",
        "“price” : 5\n",
        "}\n",
        "burgerDict3 : {\n",
        "“name” : “Bigburger”,\n",
        "“price” : 1.99\n",
        "} W\n",
        "endysFamilyDict = {\n",
        "“burgerDict1” : burgerDict1,\n",
        "“burgerDict2” : burgerDict2\n",
        "“burgerDict3” : burgerDict3\n",
        "}\n",
        "print (WendysFamilyDict)\n",
        "#OUTPUT - {“burger1” : { “name” : “Hamburger”, “price” : 2.99},\n",
        "#“burger2” : {“name” : “Cheeseburger”, “price” : 5}, “burger3” : {“name” :\n",
        "#“Bigburger”, “price” : 1.99}}"
      ]
    },
    {
      "cell_type": "markdown",
      "metadata": {
        "id": "12lti2fj_aDs"
      },
      "source": [
        "Lastly, you can use the “dict ( )” function to create a new Python\n",
        "Dictionary. The key differences when you create items for the Dictionary\n",
        "using this function are 1. Round brackets are used instead of the curly\n",
        "brackets. 2. Equal to sign is used instead of the semi-colon. Let’s look at the\n",
        "example below :\n"
      ]
    },
    {
      "cell_type": "code",
      "execution_count": null,
      "metadata": {
        "id": "Ganf49wH_b8-"
      },
      "outputs": [],
      "source": [
        "DictwithFunction = dict (key01 = “value01”, key02 = “value02”, key03\n",
        "= “value03”)\n",
        "print (DictwithFunction)\n",
        "#OUTPUT – {“key01”: “value01”, “key02”: “value02”, “key03”: “value03”}"
      ]
    },
    {
      "cell_type": "markdown",
      "metadata": {
        "id": "6xzWO3zQbThY"
      },
      "source": [
        "> Excercise\n",
        "1. Create a Dictionary “Hortons” with items containing keys\n",
        "as “type”, “size” and “price” with corresponding values as “cappuccino”,\n",
        "“grande” and “4.99”. Then add a new item with key as “syrup” and value as\n",
        "“hazelnut”.\n",
        "2. Create a Dictionary “Hortons” with items containing keys\n",
        "as “type”, “size”, and “price” with corresponding values as “cappuccino”,\n",
        "“grande” and “4.99”. Then use a function to remove the last added item.\n",
        "3. Create a Dictionary “Hortons” with nested dictionary as\n",
        "listed below :(Dictionary Name, Key Value)\n",
        "=(Coffee01, name cappuccino\n",
        "& size venti)\n",
        "(Coffee02, name frappe\n",
        "& size grande)\n",
        "(Coffee03, name macchiato\n",
        "& size small)\n",
        "4. Use the “dict ()” function to create a Dictionary\n",
        "“Hortons” with items containing keys as “type”, “size” and “price” with\n",
        "corresponding values as “cappuccino”, “grande” and “4.99”\n"
      ]
    },
    {
      "cell_type": "code",
      "execution_count": null,
      "metadata": {
        "id": "YvgpcAKGdT6e"
      },
      "outputs": [],
      "source": [
        "Hortons = {\n",
        "“type” : “cappuccino”,\n",
        "“size” : “grande”,\n",
        "“price” : 4.99\n",
        "}\n",
        "Hortons [“syrup”] = “hazelnut”\n",
        "print (Hortons )\n",
        "OUTPUT – {“type” : “cappuccino”, “size” : “grande”, “price” : 4.99,\n",
        "“syrup” : “hazelnut”}"
      ]
    },
    {
      "cell_type": "code",
      "execution_count": null,
      "metadata": {
        "id": "HOpCe5kZdOaG"
      },
      "outputs": [],
      "source": [
        "Hortons = {\n",
        "“type” : “cappuccino”,\n",
        "“size” : “grande”,\n",
        "“price” : 4.99\n",
        "}\n",
        "Hortons.popitem ( )\n",
        "print (Hortons)\n",
        "#OUTPUT – {“type” : “cappuccino”, “size” : “grande”}"
      ]
    },
    {
      "cell_type": "code",
      "execution_count": null,
      "metadata": {
        "id": "R4anv88JdIyo"
      },
      "outputs": [],
      "source": [
        "Hortons = {\n",
        "“coffee01” : {\n",
        "“name” : “cappuccino”,\n",
        "“size” : “venti”\n",
        "},\n",
        "“coffee02” : {\n",
        "“name” : “frappe”,\n",
        "“size” : “grande”\n",
        "},\n",
        "“coffee03” : {\n",
        "“name” : “macchiato”,\n",
        "“size” : “small”\n",
        "}}\n",
        "print (Hortons)\n",
        "#OUTPUT - {“coffee01” : { “name” : “cappuccino”, “size” : “venti”},\n",
        "#“coffee02” : {“name” : “frappe”, “size” : “grande”}, “coffee03” : {“name” :\n",
        "#“macchiato”, “size” : “small”}}"
      ]
    },
    {
      "cell_type": "code",
      "execution_count": null,
      "metadata": {
        "id": "om_Ef8jFc4gw"
      },
      "outputs": [],
      "source": [
        "Hortons = dict (type = “cappuccino”, size = “grande”, price = 4.99}\n",
        "print (Hortons)\n",
        "#OUTPUT – {“type” : “cappuccino”, “size” : “grande”, “price” : 4.99,“syrup” : “hazelnut”}\n"
      ]
    },
    {
      "cell_type": "markdown",
      "metadata": {
        "id": "GGqTcqO6iIOX"
      },
      "source": [
        "#Advance Python Concepts"
      ]
    },
    {
      "cell_type": "markdown",
      "metadata": {
        "id": "9PN1geC-j4UL"
      },
      "source": [
        "\n",
        "##Python Conditions and If statement\n",
        "Python allows the usage of multiple mathematical, logical conditions as listed below:\n",
        "\n",
        "\n",
        "*   Equal to – “a == y”\n",
        "* Not equal – “a !=y”\n",
        "* Less than – “a < y”\n",
        "* Less than, equal to – “a <= y”\n",
        "* Greater than – “a > y”\n",
        "* Greater than, equal to – “a >=y”\n"
      ]
    },
    {
      "cell_type": "markdown",
      "metadata": {
        "id": "9zKFRPuKjWGb"
      },
      "source": [
        "###If Statement\n",
        "All these conditions can be used within loops and “if statement” . The “if” keyword must be used to write these statements, as shown in the syntax below:\n"
      ]
    },
    {
      "cell_type": "code",
      "execution_count": null,
      "metadata": {
        "id": "VINByv70kS6N"
      },
      "outputs": [],
      "source": [
        "X = numeric1\n",
        "Y = numeric2\n",
        "if X > Y:\n",
        "print (“X is greater than Y”)\n"
      ]
    },
    {
      "cell_type": "markdown",
      "metadata": {
        "id": "1hbhKbnJkUmO"
      },
      "source": [
        "The most important thing to remember here is that the indentation or the blank space at the beginning of a line in the code above is critical. Unlike other programming languages that use curly brackets, Python programming is driven by indentation in the process of defining the scope of the code.\n",
        "Therefore, writing the Python code below will result in an error.\n"
      ]
    },
    {
      "cell_type": "code",
      "execution_count": null,
      "metadata": {
        "id": "zFv1GlhHkaTR"
      },
      "outputs": [],
      "source": [
        "X = numeric1\n",
        "Y = numeric2\n",
        "if X > Y:\n",
        "print (“X is greater than Y”) #leads to an error"
      ]
    },
    {
      "cell_type": "markdown",
      "metadata": {
        "id": "GjhzaAT6jZ-Q"
      },
      "source": [
        "###Else-if Statement\n",
        "You can use the “elif” keyword to evaluate if the preceding condition is not true, then execute the subsequent condition. Here is the syntax followed by an example to help you understand this concept further:\n"
      ]
    },
    {
      "cell_type": "code",
      "execution_count": null,
      "metadata": {
        "id": "L1Fm-CM7keci"
      },
      "outputs": [],
      "source": [
        "X = numeric1\n",
        "Y = numeric2\n",
        "if X > Y:\n",
        "print (“X is greater than Y”)\n",
        "elif X == Y:\n",
        "print (“X and Y are equal”)"
      ]
    },
    {
      "cell_type": "markdown",
      "metadata": {
        "id": "2ZYV5nDOkkCe"
      },
      "source": [
        "Example :"
      ]
    },
    {
      "cell_type": "code",
      "execution_count": null,
      "metadata": {
        "id": "-dT2Vym3km1K"
      },
      "outputs": [],
      "source": [
        "X = 58\n",
        "Y = 58\n",
        "if X > Y:\n",
        "print (“X is greater than Y”)\n",
        "elif X == Y:\n",
        "print (“X and Y are equal”)\n",
        "#OUTPUT - X and Y are equal"
      ]
    },
    {
      "cell_type": "markdown",
      "metadata": {
        "id": "5aMjlB_Gjnly"
      },
      "source": [
        "###Else Statement\n",
        "You can use the “else” keyword to execute any condition if the preceding conditions are not true. Here is the syntax followed by an example to help you understand this concept further:\n"
      ]
    },
    {
      "cell_type": "code",
      "execution_count": null,
      "metadata": {
        "id": "5eM6gzG9kwX4"
      },
      "outputs": [],
      "source": [
        "X = numeric1\n",
        "Y = numeric2\n",
        "if X > Y:\n",
        "print (“X is greater than Y”)\n",
        "elif X == Y:\n",
        "print (“X and Y are equal”)\n",
        "else:\n",
        "print (“Y is greater than X”)\n"
      ]
    },
    {
      "cell_type": "markdown",
      "metadata": {
        "id": "YQbzcfw-k0Fa"
      },
      "source": [
        "Example :"
      ]
    },
    {
      "cell_type": "code",
      "execution_count": null,
      "metadata": {
        "id": "go1HrVIxjw8g"
      },
      "outputs": [],
      "source": [
        "X = 58\n",
        "Y = 59\n",
        "if X > Y:\n",
        "print (“X is greater than Y”)\n",
        "elif X == Y:\n",
        "print (“X and Y are equal”)else:\n",
        "print (“Y is greater than X”)\n",
        "#OUTPUT - Y is greater than X"
      ]
    },
    {
      "cell_type": "markdown",
      "metadata": {
        "id": "JBXKTFHBk4Ss"
      },
      "source": [
        "###Else Statement\n",
        "You can use the “else” keyword to execute any condition if the preceding\n",
        "conditions are not true. Here is the syntax followed by an example to help\n",
        "you understand this concept further:"
      ]
    },
    {
      "cell_type": "code",
      "execution_count": null,
      "metadata": {
        "id": "2YD1zOYVlAk1"
      },
      "outputs": [],
      "source": [
        "X = numeric1\n",
        "Y = numeric2\n",
        "if X > Y:\n",
        "print (“X is greater than Y”)\n",
        "elif X == Y:\n",
        "print (“X and Y are equal”)\n",
        "else:\n",
        "print (“Y is greater than X”)\n"
      ]
    },
    {
      "cell_type": "markdown",
      "metadata": {
        "id": "Ee7Qq80VlCaV"
      },
      "source": [
        "Example :"
      ]
    },
    {
      "cell_type": "code",
      "execution_count": null,
      "metadata": {
        "id": "8LHsZEmclDMM"
      },
      "outputs": [],
      "source": [
        "X = 58\n",
        "Y = 59\n",
        "if X > Y:\n",
        "print (“X is greater than Y”)\n",
        "elif X == Y:\n",
        "print (“X and Y are equal”)else:\n",
        "print (“Y is greater than X”)\n",
        "OUTPUT - Y is greater than X"
      ]
    },
    {
      "cell_type": "code",
      "execution_count": null,
      "metadata": {
        "id": "idj49d3vlIKI"
      },
      "outputs": [],
      "source": [
        "#Alternatively, you can use the “else” keyword without using the “elif”\n",
        "#keyword, as shown in the example below:\n",
        "X = 69\n",
        "Y = 96\n",
        "if X > Y:\n",
        "print (“X is greater than Y”)\n",
        "else:\n",
        "print (“X is not greater than Y”)\n",
        "OUTPUT - X is not greater than Y"
      ]
    },
    {
      "cell_type": "markdown",
      "metadata": {
        "id": "rP7rcG2_lYhD"
      },
      "source": [
        "**Single Line If Statement**\n",
        "\n",
        "You could even execute single line statements with “If” clause, as shown\n",
        "in the syntax below:\n",
        "\n",
        "\n",
        "```\n",
        "If x > y: print (“y is greater than x”)\n",
        "```\n",
        "\n",
        "**Single Line If-Else Statement**\n",
        "\n",
        "You could even execute single line statements with “If - Else” clause, as\n",
        "shown in the syntax below:\n",
        "\n",
        "\n",
        "```\n",
        "x = 10\n",
        "y = 15\n",
        "print (“x”) If x > y else print (“y”)\n",
        "```\n",
        "\n",
        "\n",
        "**Single Line If-Else Statement with multiple Else**\n",
        "You will also be able to execute single line statements with “If - Else”\n",
        "clause containing multiple “Else” statements in the same line, as shown in\n",
        "the syntax below:\n",
        "\n",
        "\n",
        "```\n",
        "x = 100\n",
        "y = 100\n",
        "print (“x”) If x > y else print (“=”) if a == b else print (“y” )\n",
        "```\n",
        "\n",
        "**“And” Keyword**\n",
        "\n",
        "If you are looking to combine multiple conditional statements, you can\n",
        "do so with the use of the “and” keyword, as shown in the example below:\n",
        "\n",
        "\n",
        "```\n",
        "x = 20\n",
        "y = 18\n",
        "z = 35\n",
        "if x > y and z > x :\n",
        "print (“All conditions are True”)\n",
        "```\n",
        "\n",
        "**“Or” Keyword**\n",
        "If you are looking to combine multiple conditional statements, the other\n",
        "way you can do so is with the use of the “or” keyword, as shown in the\n",
        "example below:\n",
        "\n",
        "\n",
        "```\n",
        "x = 20\n",
        "y = 18\n",
        "z = 35\n",
        "if x > y or x > z :\n",
        "print (“At least one of the conditions is True”)\n",
        "```\n",
        "\n",
        "\n",
        "**“Nested If” Statements**\n",
        "\n",
        "You can have multiple “if” statements within an “if” statement, as shown\n",
        "in the example below:\n",
        "```\n",
        "x = 11 0\n",
        "if x > 50:\n",
        "print (“Greater than 50, “)\n",
        "if x > 90:\n",
        "print (“and greater than 100”)\n",
        "else:\n",
        "print (“Not greater than 100”)\n",
        "```\n",
        "\n",
        "**“Pass” statements**\n",
        "\n",
        "In Python, if you ever need to execute “if” statements without any\n",
        "content, you must incorporate a “pass” statement to avoid triggering any\n",
        "error. Here is an example to further your understanding of this concept.\n",
        "```\n",
        "x = 20\n",
        "y = 55\n",
        "if y > x\n",
        " pass\n",
        "```\n"
      ]
    },
    {
      "cell_type": "markdown",
      "metadata": {
        "id": "mryS3xmgmjq4"
      },
      "source": [
        "> Excercise\n",
        "1. Write the code to check if X = 69 is greater than Y = 79,\n",
        "the output should read “ X is greater than Y”. If the first condition is not\n",
        "true, then check if X is equal to Y, the output should read “X and Y are\n",
        "equal” otherwise the output should read “Y is greater than X” .\n",
        "2. Write the code to check if x = 69 is greater ‘50’, the\n",
        "output should read “Greater than 50”. Then check if x is greater than ‘60’,\n",
        "the output should read “And greater than 60”, otherwise the output should\n",
        "read “Not greater than 60”.\n",
        "3. Write the code to check if x = 9 is greater than y = 19 as\n",
        "well as if z = 25 is greater than x. The output should read if one or both the\n",
        "conditions are true.\n",
        "4. Write the code to check if x = 45 is less than y = 459 or z\n",
        "= 1459 is less than x. The output should read if one or both the conditions\n",
        "are true."
      ]
    },
    {
      "cell_type": "code",
      "execution_count": null,
      "metadata": {
        "id": "__-4XZjJmzUn"
      },
      "outputs": [],
      "source": [
        "X = 69\n",
        "Y = 79\n",
        "if X > Y:\n",
        "print (“X is greater than Y”)\n",
        "elif X == Y:\n",
        "print (“X and Y are equal”)\n",
        "else:\n",
        "print (“Y is greater than X”)\n",
        "#OUTPUT – “Y is greater than X\""
      ]
    },
    {
      "cell_type": "code",
      "execution_count": null,
      "metadata": {
        "id": "lhxipYHMm7Bu"
      },
      "outputs": [],
      "source": [
        "x = 69\n",
        "if x > 50:\n",
        "print (“Greater than 50”)\n",
        "if x > 60:\n",
        "print (“And greater than 60”)\n",
        "else:\n",
        "print (“Not greater than 60”)\n",
        "#OUTPUT –“Greater than 50”\n",
        "#“And greater than 60”"
      ]
    },
    {
      "cell_type": "code",
      "execution_count": null,
      "metadata": {
        "id": "vqqlVJ9vm--a"
      },
      "outputs": [],
      "source": [
        "x = 9\n",
        "y = 1 9\n",
        "z = 25\n",
        "if x > y and z > x :\n",
        "print (“Both the conditions are True”)\n",
        "#OUTPUT – “Both the conditions are True"
      ]
    },
    {
      "cell_type": "code",
      "execution_count": null,
      "metadata": {
        "id": "-7HPeFUSnGkl"
      },
      "outputs": [],
      "source": [
        "x = 45\n",
        "y = 459\n",
        "z = 1459\n",
        "if x < y and z < x :\n",
        "print (“At least one of the conditions is True”)\n",
        "#OUTPUT – “At least one of the conditions is True "
      ]
    },
    {
      "cell_type": "markdown",
      "metadata": {
        "id": "UXnmG9osnbQH"
      },
      "source": [
        "###Python “While” \n",
        "LoopPython allows the usage of one of its standard loop commands i.e.\n",
        "“while” loop for execution of a block of statements, given that the initial\n",
        "condition holds true.\n",
        "\n",
        "Here is the syntax for “while” loop statements:\n",
        "\n",
        "\n",
        "```\n",
        "p = num1\n",
        "while p < num2:\n",
        "print (p)\n",
        "p += 1\n",
        "```\n",
        "\n",
        "In the syntax above, to prevent the loop from continuing with no end, the\n",
        "variable (p) was limited by setting to an increment. It is a pre-requisite for\n",
        "the “while” loop to index the variable in the statement"
      ]
    },
    {
      "cell_type": "markdown",
      "metadata": {
        "id": "mVWQk6tCnsHZ"
      },
      "source": [
        "**“break” statements**.\n",
        "These statements allow exiting from the “while” loop, even if the set\n",
        "condition holds true. In the example below, the variable will exit the loop\n",
        "when it reaches 4:\n"
      ]
    },
    {
      "cell_type": "code",
      "execution_count": null,
      "metadata": {
        "id": "5oGn179Onwbx"
      },
      "outputs": [],
      "source": [
        "p = 2\n",
        "while p < 7:\n",
        "print (p)\n",
        "if p == 4\n",
        "break\n",
        "p += 2\n",
        "#OUTPUT –\n",
        "#2 3 4"
      ]
    },
    {
      "cell_type": "markdown",
      "metadata": {
        "id": "TTpraV5bn0Bo"
      },
      "source": [
        "**“continue” statements**.\n",
        "These statements allow the system to stop the execution of the current\n",
        "condition and move to the next iteration of the loop. In the example below,\n",
        "system will continue the execution of the subsequent command if the\n",
        "variable equals 2:"
      ]
    },
    {
      "cell_type": "code",
      "execution_count": null,
      "metadata": {
        "id": "JqSgjn0In_KN"
      },
      "outputs": [],
      "source": [
        "p = 1\n",
        "while p < 5:\n",
        "p += 1\n",
        "if p == 2:continue\n",
        "print (p)\n",
        "#OUTPUT –\n",
        "#1 3 4 5\n",
        "#(Note - The number 2 is missing from the result above)"
      ]
    },
    {
      "cell_type": "markdown",
      "metadata": {
        "id": "NGYcZxZgoBdW"
      },
      "source": [
        "**“else” statement**.\n",
        "The “else” statement allows you to execute a set of code after the\n",
        "“while” condition doesn’t hold true any longer. The output in the example\n",
        "below will include a statement that the initial condition is no longer true:"
      ]
    },
    {
      "cell_type": "code",
      "execution_count": null,
      "metadata": {
        "id": "-fqh2QqUoIfH"
      },
      "outputs": [],
      "source": [
        "p = 1\n",
        "while p < 5:\n",
        "print (p)\n",
        "p += 1\n",
        "else:\n",
        "print (“p is no longer less than 5”)\n",
        "#OUTPUT –\n",
        "#1 2 3 4\n",
        "#p is no longer less than 5"
      ]
    },
    {
      "cell_type": "markdown",
      "metadata": {
        "id": "gtgMFQsloLQw"
      },
      "source": [
        ">Excercise\n",
        "1. Write the code to print a series of number if x = 1 is\n",
        "smaller than 7.\n",
        "2. Write the code to print a series of number if x = 1 is\n",
        "smaller than 6 and exit the loop when x is 3.\n",
        "3. Write the code to print a series of number if x = 1 is\n",
        "smaller than 6 and continue to execute the initial condition if x is 3 in a new iteration.\n",
        "4. Write the code to print a series of number if x = 1 is\n",
        "smaller than 4. Once this condition turns false, print “x is no longer less\n",
        "than 4”.\n"
      ]
    },
    {
      "cell_type": "code",
      "execution_count": null,
      "metadata": {
        "id": "mx34ZkxfolQw"
      },
      "outputs": [],
      "source": [
        "x = 1\n",
        "while x < 7:\n",
        "print (x)x += 1\n",
        "#OUTPUT –\n",
        "#1 2 3 4 5 6"
      ]
    },
    {
      "cell_type": "code",
      "execution_count": null,
      "metadata": {
        "id": "GhDr5CCworLc"
      },
      "outputs": [],
      "source": [
        "x = 1\n",
        "while x < 6:\n",
        "print (x)\n",
        "if x == 3\n",
        "break\n",
        "x += 1\n",
        "#OUTPUT –\n",
        "#1 2 3"
      ]
    },
    {
      "cell_type": "code",
      "execution_count": null,
      "metadata": {
        "id": "08tZnABWouRg"
      },
      "outputs": [],
      "source": [
        "x = 1\n",
        "while x < 6:x += 1\n",
        "if x == 3:\n",
        "continue\n",
        "print (x)\n",
        "#OUTPUT –\n",
        "#1 2 4 5 6\n",
        "#(Note – The number 3 is missing, but the initial condition is executed in\n",
        "#a new iteration.)"
      ]
    },
    {
      "cell_type": "code",
      "execution_count": null,
      "metadata": {
        "id": "7eSQiyv7o4nf"
      },
      "outputs": [],
      "source": [
        "x = 1\n",
        "while x < 4:\n",
        "print (x)\n",
        "x = 1\n",
        "else:\n",
        "print (“x is no longer less than 4”)\n",
        "#OUTPUT –\n",
        "#123\n",
        "#x is no longer less than 4"
      ]
    },
    {
      "cell_type": "markdown",
      "metadata": {
        "id": "8iO5PcJupBlU"
      },
      "source": [
        "Python “For” Loop\n",
        "Another one of the Python standard loops is “for” loop, which is used to\n",
        "execute iterations over a series such as string, tuple, set, dictionary, list. The“for” keyword in Python functions like an iterator found in object-oriented\n",
        "programming languages. It allows the execution of a block of statements\n",
        "once for every single item of tuple, set, list, and other series.\n",
        "Let’s look at the example below :\n",
        "\n",
        "\n",
        "```\n",
        "veg = [“tart”, “scone”, “cookies”]\n",
        "for X in veg:\n",
        "print (X)\n",
        "OUTPUT –\n",
        "tart\n",
        "scone\n",
        "cookies\n",
        "```\n",
        "\n",
        "\n",
        "You will notice that in the code above that the variable was not defined.\n",
        "The “for” loop can be executed without setting an index for the variable in\n",
        "the code."
      ]
    },
    {
      "cell_type": "markdown",
      "metadata": {
        "id": "YQWqmnOYpNIg"
      },
      "source": [
        "###Loops for String\n",
        "Python strings constitute a series of characters are iterative in nature. So\n",
        "if you wanted to loop through characters of a string, you could simply use\n",
        "the “for” loop as shown in the example below:"
      ]
    },
    {
      "cell_type": "code",
      "execution_count": null,
      "metadata": {
        "id": "YzatO08SpS1H"
      },
      "outputs": [],
      "source": [
        "for X in “carrot”:\n",
        "print (X)\n",
        "OUTPUT –\n",
        "#c a r r o t"
      ]
    },
    {
      "cell_type": "markdown",
      "metadata": {
        "id": "rbc5ChWJphWZ"
      },
      "source": [
        "**“break” statements**.\n",
        "If you want to exit the loop prior to its completion, you can use the\n",
        "“break” statements as shown in the example below:"
      ]
    },
    {
      "cell_type": "code",
      "execution_count": null,
      "metadata": {
        "id": "yCpg9hpgpk-p"
      },
      "outputs": [],
      "source": [
        "veg = [“tart”, “scone”, “cookies”, “pies”, “carrot”]\n",
        "for X in veg:print (X)\n",
        "if X == “pies”:\n",
        "break\n",
        "#OUTPUT –\n",
        "#tart\n",
        "#scone\n",
        "#cookies\n",
        "#pies"
      ]
    },
    {
      "cell_type": "code",
      "execution_count": null,
      "metadata": {
        "id": "uld4pLBnpq6r"
      },
      "outputs": [],
      "source": [
        "#In the example below, the print command was executed prior to the\n",
        "#“break” statement and directly affected the output :\n",
        "veg = [“tart”, “scone”, “cookies”, “pies”, “carrot”]\n",
        "for X in veg:\n",
        "if X == “pies”:\n",
        "break\n",
        "print (X)\n",
        "#OUTPUT –\n",
        "#tart\n",
        "#scone\n",
        "#cookies"
      ]
    },
    {
      "cell_type": "markdown",
      "metadata": {
        "id": "EY_2pRyXpwHx"
      },
      "source": [
        "**“continue” statement**.\n",
        "Similar to the “while” loop, the “continue” statements in the “for” loop\n",
        "is used to stop the execution of the current condition and move to the next\n",
        "iteration of the loop. Let’s looks at the example below to further understand\n",
        "this concept:\n"
      ]
    },
    {
      "cell_type": "code",
      "execution_count": null,
      "metadata": {
        "id": "58Tm3u2opz8P"
      },
      "outputs": [],
      "source": [
        "veg = [“tart”, “scone”, “cookies”, “pies”, “carrot”]\n",
        "for X in veg:\n",
        "if X == “cookies”:\n",
        "continue\n",
        "print (X)\n",
        "#OUTPUT –\n",
        "#tart\n",
        "#scone\n",
        "#pies\n",
        "#carrot"
      ]
    },
    {
      "cell_type": "markdown",
      "metadata": {
        "id": "jjGaAJC2p2Ea"
      },
      "source": [
        "**“range” function**.\n",
        "The “range ( )” function can be used to loop through a block of code for\n",
        "a specific number of times. This function will result in a series of number\n",
        "beginning with “0” by default, with regular increments of 1 and ending at a\n",
        "specific number."
      ]
    },
    {
      "cell_type": "code",
      "execution_count": null,
      "metadata": {
        "id": "Vm5ewrG7qAdY"
      },
      "outputs": [],
      "source": [
        "for X in range (5):\n",
        "print (X)\n",
        "OUTPUT –\n",
        "#0 1 2 3 4\n",
        "#Note – The “range ( )” function defaulted to 0 as the first output, and the\n",
        "#final value of the range, 5, is excluded from the output."
      ]
    },
    {
      "cell_type": "code",
      "execution_count": null,
      "metadata": {
        "id": "yBt1QFQPqFyK"
      },
      "outputs": [],
      "source": [
        "for X in range (1, 5):\n",
        "print (X)\n",
        "OUTPUT –\n",
        "#1 2 3 4"
      ]
    },
    {
      "cell_type": "code",
      "execution_count": null,
      "metadata": {
        "id": "Fx551SGfqU2k"
      },
      "outputs": [],
      "source": [
        "#In the example below, we will specify the increment value, which is set\n",
        "#to 1 by default:\n",
        "for X in range (3, 20, 5):\n",
        "print (X)\n",
        "# OUTPUT – 3 8 13 18"
      ]
    },
    {
      "cell_type": "markdown",
      "metadata": {
        "id": "83RAe3MNqd-c"
      },
      "source": [
        "**“Else” in “For” Loop**.\n",
        "You can use the “else” keyword to specify a set of code that need to be\n",
        "executed upon the completion of the loop, as shown in the example below:"
      ]
    },
    {
      "cell_type": "code",
      "execution_count": null,
      "metadata": {
        "id": "pkd4y7tJqj4R"
      },
      "outputs": [],
      "source": [
        "for X in range (5):\n",
        "print (X)\n",
        "else:\n",
        "print (“The loop was completed”)\n",
        "#OUTPUT –\n",
        "#0 1 2 3 4\n",
        "#The loop was completed"
      ]
    },
    {
      "cell_type": "markdown",
      "metadata": {
        "id": "NoSeEh5Hqq7w"
      },
      "source": [
        "**“Nested” Loops**.\n",
        "When loops are defined within a loop, execution of the inner loop will\n",
        "occur once for each iteration of the outer loop. Let’s look at the example\n",
        "below, where we want every single adjective must be printed for each listed\n",
        "vegetable:\n"
      ]
    },
    {
      "cell_type": "code",
      "execution_count": null,
      "metadata": {
        "id": "U__qVtkPqqaJ"
      },
      "outputs": [],
      "source": [
        "adjective = [“olive”, “leafy”, “healthy”]\n",
        "veg = [“spinach”, “kale”, “asparagus”]\n",
        "for X in adjective:\n",
        "for Y in veg:\n",
        "print (X, Y)\n",
        "#OUTPUT –\n",
        "#olive spinach\n",
        "#olive kale\n",
        "#olive asparagus\n",
        "#leafy spinachleafy kale\n",
        "#leafy asparagus\n",
        "#healthy spinach\n",
        "#healthy kale\n",
        "#healthy asparagus"
      ]
    },
    {
      "cell_type": "markdown",
      "metadata": {
        "id": "cHb2nfqYrDeN"
      },
      "source": [
        "**“pass” statements**.\n",
        "In Python, if you ever need to execute “for” loops without any content,\n",
        "you must incorporate a “pass” statement to avoid triggering any error. Here\n",
        "is an example to further your understanding of this concept.\n"
      ]
    },
    {
      "cell_type": "code",
      "execution_count": null,
      "metadata": {
        "id": "-YkqH7n4rInU"
      },
      "outputs": [],
      "source": [
        "for X in [ 1, 2, 3]\n",
        "pass\n",
        "#OUTPUT - ......\n",
        "# The empty “for” loop code above would have resulted in an error\n",
        "#without the “pass” statement."
      ]
    },
    {
      "cell_type": "markdown",
      "metadata": {
        "id": "SM8X9BS8rSjy"
      },
      "source": [
        "> Exercise\n",
        "1. Write the code to loop through a list of colors (“cyan”,\n",
        "“lilac”, “red”) without defining a variable. Then loop through the characters\n",
        "of the string “cyan”.\n",
        "2. Write the code to loop through a list of colors (“cyan”,\n",
        "“lilac”, “red”, “white”) without defining a variable. Then break the loop at\n",
        "“red”, without printing it in the result.\n",
        "3. Write the code to loop through a range of numbers\n",
        "starting with 5 and ending with 30. Make sure to define the increments at 6\n",
        "4. Write the code to loop phones (“iPhone”, “Samsung”,\n",
        "“Google”), and loop that with colors (“black”, “white”, “gold”) usingnested loops"
      ]
    },
    {
      "cell_type": "code",
      "execution_count": null,
      "metadata": {
        "id": "ShmdzVGWrsgi"
      },
      "outputs": [],
      "source": [
        "#Now, check your code against the correct code below:\n",
        "colors = [ “cyan”, “lilac”, “red”]\n",
        "for A in colors:\n",
        "print (A)\n",
        "for B in “cyan”:\n",
        "print (B )\n",
        "#OUTPUT –\n",
        "#cyan\n",
        "#lilac\n",
        "#red\n",
        "#c y a n"
      ]
    },
    {
      "cell_type": "code",
      "execution_count": null,
      "metadata": {
        "id": "4k3AAczur3hw"
      },
      "outputs": [],
      "source": [
        "colors = [ “cyan”, “lilac”, “red”, “white”]\n",
        "for A in colors:\n",
        "if A == “red”:\n",
        "break\n",
        "print (A)\n",
        "#OUTPUT –\n",
        "#cyan\n",
        "#lila c"
      ]
    },
    {
      "cell_type": "code",
      "execution_count": null,
      "metadata": {
        "id": "Q_Jb8hN0r8C8"
      },
      "outputs": [],
      "source": [
        "for X in range (5, 30, 6):\n",
        "print (X)\n",
        "#OUTPUT –\n",
        "#51\n",
        "#1\n",
        "#16\n",
        "#22\n",
        "#2 8"
      ]
    },
    {
      "cell_type": "code",
      "execution_count": null,
      "metadata": {
        "id": "h8s_IfResAmd"
      },
      "outputs": [],
      "source": [
        "colors = [“black”, “white”, “gold”]\n",
        "phones = [ “iPhone”, “Samsung”, “Google”]\n",
        "for X in colors:\n",
        "for Y in phones:\n",
        "print (X, Y)\n",
        "#OUTPUT –\n",
        "#black iPhone\n",
        "#black Samsung\n",
        "#black Google\n",
        "#white iPhone\n",
        "#white Samsung\n",
        "#white Google\n",
        "#gold iPhone\n",
        "#gold Samsun g\n",
        "#gold Google"
      ]
    },
    {
      "cell_type": "markdown",
      "metadata": {
        "id": "tllRoALksJlW"
      },
      "source": [
        "##Python Classes and Objects\n",
        "\n",
        "Python is one of the many object oriented coding languages. Every entity\n",
        "of Python can be considered an object and has its own methods and\n",
        "properties. In Python, Classes are used to construct these objects serving as\n",
        "object blueprints.\n",
        "A Python Class can be created using the keyword “class” with a\n",
        "predefined property (p) as shown in the syntax below:\n",
        "\n",
        "\n",
        "\n",
        "```\n",
        "class ClassName:\n",
        "p = 2\n",
        "```\n",
        "\n",
        "\n",
        "\n",
        "A Python Object can then be created from the Python Class created\n",
        "above, as shown in the syntax below:\n",
        "```\n",
        "Object1 = ClassName ( )\n",
        "print (object1.p)\n",
        "```"
      ]
    },
    {
      "cell_type": "markdown",
      "metadata": {},
      "source": [
        "**Built-in Function**\n",
        "\n",
        "In reality, creation of classes and objects is much more complex than the\n",
        "basic syntax provided above. This is where a built-in function to create\n",
        "classes called “__init__()” is used. When the classes are being created, this\n",
        "inherent class function is executed with it. The “__init__()” function is\n",
        "mostly used for assigning values to object properties and other actions that\n",
        "are required for creation of an object. Let’s look at the example below to\n",
        "understand this function:\n"
      ]
    },
    {
      "cell_type": "code",
      "execution_count": null,
      "metadata": {},
      "outputs": [],
      "source": [
        "class Vehicle:\n",
        "def __init__ (self, name, year)\n",
        "self.name = name\n",
        "self.name = year\n",
        "v1 = Vehicle (“AUDI”, 2018)\n",
        "print (v1.name)\n",
        "print (v1.year)\n",
        "#OUTPUT - AUDI 2018"
      ]
    },
    {
      "cell_type": "markdown",
      "metadata": {},
      "source": [
        "**Object Methods**\n",
        "\n",
        "There are certain methods that can be created with the Python Objects.\n",
        "These methods can be considered as functions of that object. For example,\n",
        "to create a function that would print a comment regarding ownership of the\n",
        "vehicle and executed on the object v1, the command below will be used:\n"
      ]
    },
    {
      "cell_type": "code",
      "execution_count": null,
      "metadata": {},
      "outputs": [],
      "source": [
        "class Vehicle:\n",
        "def __init__ (self, name, year)\n",
        "self.name = name\n",
        "self.name = year\n",
        "def newfunc (ownership):\n",
        "print (“I am a proud owner of ” + self.name)\n",
        "v1 = Vehicle (“AUDI”, 2018)\n",
        "v1.newfunc ()OUTPUT – I am a proud owner of AUDI"
      ]
    },
    {
      "cell_type": "markdown",
      "metadata": {},
      "source": [
        "**Reference Parameter**\n",
        "\n",
        "To refer to the latest instance of a class, the “self” parameter is used. It\n",
        "allows you to access variables that have been derived from a class. This\n",
        "parameter can be named as needed and does not have to be named “self”.\n",
        "The important thing to remember here is that the first parameter defined for\n",
        "a class will become the reference parameter for that class, as shown in the\n",
        "example below:"
      ]
    },
    {
      "cell_type": "code",
      "execution_count": null,
      "metadata": {},
      "outputs": [],
      "source": [
        "class Vehicle:\n",
        "def __init__ (refobject, name, year)\n",
        "refobject.name = name\n",
        "refobject.name = year\n",
        "def newfunc (xyz):\n",
        "print (“I am a proud owner of ” + xyz.name)\n",
        "v1 = Vehicle (“AUDI”, 2018)\n",
        "v1.newfunc ()\n",
        "#OUTPUT – I am a proud owner of AUDI"
      ]
    },
    {
      "cell_type": "markdown",
      "metadata": {},
      "source": [
        "There might be instances when you need to **change the properties** of an\n",
        "object. You can easily do so by declaring the new property of the object as\n",
        "shown in the example below:\n"
      ]
    },
    {
      "cell_type": "code",
      "execution_count": null,
      "metadata": {},
      "outputs": [],
      "source": [
        "class Vehicle:\n",
        "def __init__ (refobject, name, year)\n",
        "refobject.name = name\n",
        "refobject.name = year\n",
        "def newfunc (xyz):\n",
        "print (“I am a proud owner of ” + xyz.name )\n",
        "v1 = Vehicle (“AUDI”, 2018)\n",
        "v1.year = 2019"
      ]
    },
    {
      "cell_type": "code",
      "execution_count": null,
      "metadata": {},
      "outputs": [],
      "source": [
        "#You can use the “del” keyword to selectively remove properties of an\n",
        "#object , as shown in the example below:\n",
        "class Vehicle:def __init__ (refobject, name, year)\n",
        "refobject.name = name\n",
        "refobject.name = year\n",
        "def newfunc (xyz):\n",
        "print (“I am a proud owner of ” + xyz.name)\n",
        "v1 = Vehicle (“AUDI”, 2018)\n",
        "del v1.year\n",
        "print (v1.age)\n",
        "#OUTPUT – ‘Vehicle’ object has no ‘year’ attribute"
      ]
    },
    {
      "cell_type": "code",
      "execution_count": null,
      "metadata": {},
      "outputs": [],
      "source": [
        "#You can also use the “del” keyword to entirely delete an object , as\n",
        "#shown in the example below :\n",
        "class Vehicle:\n",
        "def __init__ (refobject, name, year)\n",
        "refobject.name = name\n",
        "refobject.name = year\n",
        "def newfunc (xyz):\n",
        "print (“I am a proud owner of ” + xyz.name)\n",
        "v1 = Vehicle (“AUDI”, 2018)\n",
        "del v1\n",
        "#OUTPUT – NameError: ‘v1’ is not defined"
      ]
    },
    {
      "cell_type": "markdown",
      "metadata": {},
      "source": [
        "**The “pass” statement**\n",
        "\n",
        "The definition of a Python Class must contain values, or you will receive\n",
        "an error. However, there might be instances when the definition of a class\n",
        "does not have any content. In such a case, you can use the “pass” statement\n",
        "to avoid getting an error. Look at the example below:\n",
        "```\n",
        "class Vehicle: # this class definition is empty\n",
        "pass # used to avoid any error s\n",
        "```"
      ]
    },
    {
      "cell_type": "markdown",
      "metadata": {},
      "source": [
        "> Excercise\n",
        "\n",
        "1. Create a Class “KafeShop” with properties as “type” and “size” with corresponding values as “cappuccino” and “large”, respectively\n",
        "2. Create a Class “KafeShop” with properties as “type” and “size” with corresponding values as “cappuccino” and “large” respectively.\n",
        "Create a new function “funct1” that would print “I would like to order a” and execute it on the object .\n"
      ]
    },
    {
      "cell_type": "code",
      "execution_count": null,
      "metadata": {},
      "outputs": [],
      "source": [
        "class KafeShop:\n",
        "def __init__ (refobject, type, size)\n",
        "refobject.type = type\n",
        "refobject.size = size\n",
        "c1 = KafeShop (“cappuccino”, “large”)\n",
        "print (c1.type)\n",
        "print (c1.size)\n",
        "#OUTPUT – cappuccino large"
      ]
    },
    {
      "cell_type": "code",
      "execution_count": null,
      "metadata": {},
      "outputs": [],
      "source": [
        "class KafeShop:\n",
        "def __init__ (refobject, type, size)\n",
        "refobject.type = type\n",
        "refobject.size = size\n",
        "def funct1 (refobject):\n",
        "print (“I would like to order a” + refobject.type)\n",
        "c1 = KafeShop (“cappuccino”, “large”)\n",
        "c1.funct1 ( )\n",
        "#OUTPUT – I would like to order a cappuccino"
      ]
    }
  ],
  "metadata": {
    "colab": {
      "collapsed_sections": [],
      "provenance": [],
      "toc_visible": true
    },
    "kernelspec": {
      "display_name": "Python 3.9.2 64-bit",
      "language": "python",
      "name": "python3"
    },
    "language_info": {
      "name": "python",
      "version": "3.9.2"
    },
    "vscode": {
      "interpreter": {
        "hash": "c3c4c1ec4dc7477d16eae12297f1e5a80d8468c7b6f5b3079d41fa3e3c3249a2"
      }
    }
  },
  "nbformat": 4,
  "nbformat_minor": 0
}
