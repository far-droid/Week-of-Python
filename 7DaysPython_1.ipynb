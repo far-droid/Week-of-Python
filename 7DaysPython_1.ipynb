{
  "nbformat": 4,
  "nbformat_minor": 0,
  "metadata": {
    "colab": {
      "provenance": [],
      "collapsed_sections": [],
      "toc_visible": true
    },
    "kernelspec": {
      "name": "python3",
      "display_name": "Python 3"
    },
    "language_info": {
      "name": "python"
    }
  },
  "cells": [
    {
      "cell_type": "markdown",
      "source": [
        "#intro\n",
        "Python is a high-level programming language, commonly used for\n",
        "general purposes. It was originally developed by Guido van Rossum at the\n",
        "\"Center Wiskunde & Informatica (CWI), Netherlands”, in the 1980s and\n",
        "introduced by the “Python Software Foundation” in 1991. It was designed\n",
        "primarily to emphasize the readability of programming code, and its syntax\n",
        "enables programmers to convey ideas using fewer lines of code. Python\n",
        "programming language increases the speed of operation while allowing for\n",
        "higher efficiency in creating system integrations. Developers are using\n",
        "Python for “web development (server-side), software development,\n",
        "mathematics, system scripting”.\n",
        "\n",
        "With the introduction of various enhancements such as “list\n",
        "comprehension” and a “garbage collection system”, which can collect\n",
        "reference cycles, the Python 2.0 was launched in the last quarter of 2000.\n",
        "Subsequently, in 2008, Python 3.0 was released as a major version upgrade\n",
        "with backward compatibility allowing for the Python 2.0 code to be\n",
        "executed on Python 3.0 without requiring any modifications. Python is\n",
        "supported by a community of programmers that continually develop and\n",
        "maintain the “CPython”, which is an open-source reference\n",
        "implementation. The “Python Software Foundation” is a not for profit\n",
        "organization that is responsible for managing and directing resources for\n",
        "developing Python programming as well as “CPython”.\n",
        "\n",
        "Here are some of the key features of Python that render it as the\n",
        "language of choice for coding beginners as well as advanced software\n",
        "programmers alike:\n",
        "\n",
        "1.**Readability** : Python reads a lot like the\n",
        "English language, which contributes to its ease of readability.\n",
        "\n",
        "2.**Learnability** : Python is a high level programming\n",
        "language and considered easy to learn due to the ability to code\n",
        "using English language like expressions, which implies it is\n",
        "simple to comprehend and thereby learn the language.\n",
        "\n",
        "3.**Operating Systems** : Python is easily accessible and can\n",
        "be operated across different Operating systems, including\n",
        "Linux, Unix, Mac, Windows among others. This renders\n",
        "Python as a versatile and cross-platform language.\n",
        "\n",
        "4.**Open Source** : Python is \"open source”, which means\n",
        "that the developer community can seamlessly make updates to\n",
        "the code, which are always available to anyone using Python\n",
        "for their software programming needs.\n",
        "\n",
        "5.**Standardized Data Libraries** : Python features a big\n",
        "standard data library with a variety of useful codes and\n",
        "functionalities that can be used when writing Python code for\n",
        "data analysis and development of machine learning models.\n",
        "(Details on machine learning libraries will be provided later in\n",
        "this chapter)\n",
        "\n",
        "6.**Free** : Considering the wide applicability and usage of\n",
        "Python, it is hard to believe that it continues to be freely\n",
        "available for easy download and use. This implies that anyone\n",
        "looking to learn or use Python can simply download and use it\n",
        "for their applications completely free of charge. Python is\n",
        "indeed a perfect example of a \"FLOSS (Free/Libre Open\n",
        "Source Software)”, which means one could \"freely distribute\n",
        "copies of this software, read its source code and modify it”.\n",
        "\n",
        "7.**Supports managing of exceptions** : An \"exception\" can\n",
        "be defined as \"an event that can occur during program\n",
        "exception and can disrupt the normal flow of program”. Python\n",
        "is capable of supporting handling of these \"exceptions”,\n",
        "implying that you could write fewer error-prone codes and test\n",
        "your code with a variety of cases, which could potentially lead\n",
        "to an \"exception\" in the future.\n",
        "\n",
        "8.**Advanced Features** : Python can also support\n",
        "\"generators and list comprehensions”. ⠀ Storage governance :Python is also able to support \"automatic memory\n",
        "management”, which implies that the storage memory will be\n",
        "cleared and made available automatically. You are not required\n",
        "to clear and free up the system memory."
      ],
      "metadata": {
        "id": "GYfCST6Zxiv5"
      }
    },
    {
      "cell_type": "markdown",
      "source": [
        "#Python Coding Basic"
      ],
      "metadata": {
        "id": "s6vYM5d4WLRt"
      }
    },
    {
      "cell_type": "markdown",
      "source": [
        "Indentation – To understand the Python coding structure, you must first\n",
        "understand the significance of indentation or the number of spaces before\n",
        "you start typing the code. Unlike other coding languages where\n",
        "“indentation” is added to enhance the readability of the code, in Python, it is\n",
        "used to indicate a set of code. For example, look at the code below\n",
        "\n",
        "\n",
        "```\n",
        "If 7 > 4:\n",
        "    print (‘Seven is greater than 4’)\n",
        "```\n",
        "\n",
        "\n",
        "There is indentation prior to the second line of code with the print\n",
        "command. If you skip the indentation and write the code as below, you will\n",
        "receive an error:\n",
        "\n",
        "\n",
        "```\n",
        "If 7 > 4:\n",
        "print (‘Seven is greater than 4’)\n",
        "```\n",
        "\n",
        "The number of spaces can be adjusted but must be at least single-spaced.\n",
        "For example, you can execute the code below with higher indentation, but\n",
        "for a specific set of code same number of spaces must be used, or you will\n",
        "receive an error.\n",
        "\n",
        "\n",
        "```\n",
        "If 7 > 4:\n",
        "              print (‘Seven is greater than 4’)\n",
        "```\n",
        "\n",
        "\n",
        "Adding Comments – In Python, you can add comments to the code by\n",
        "starting the code comment lines with a “#”, as shown in the example below:\n",
        "\n",
        "'#Add any relevant comment here\n",
        "\n",
        "'print (‘Planet Earth’ )\n",
        "\n",
        "Comments are also used as a description of the code and not executed by\n",
        "the Python terminal. It is important to remember that if you put a comment\n",
        "at the end of code like the entire code line will be skipped by the Python\n",
        "terminal, as shown in the code below. Comments are extremely useful in\n",
        "case you need to stop the execution when you are testing the code.\n",
        "\n",
        "'print (‘Planet Earth’) #Add comments here\n",
        "\n",
        "You can also add multiple lines of comments by starting each code line\n",
        "with “#”, as shown below:\n",
        "\n",
        "'#Add comment here\n",
        "\n",
        "'#Supplement the comment here\n",
        "\n",
        "'#Further add the comment here\n",
        "\n",
        "print (‘Planet Earth’)\n",
        "\n",
        "##Python Variables\n",
        "There are certain rules applied to the Python variable names as follows:\n",
        "1. Variable names can be short as single alphabets or more\n",
        "descriptive words like height, weight, etc\n",
        "2. Variable names can only be started with an underscore\n",
        "character or a letter.\n",
        "3. Variable names must not start with numbers.\n",
        "4. Variable names may contain underscores or alphanumeric\n",
        "characters. No other special characters are allowed.\n",
        "5. Variable names are case sensitive. For example, ‘height,’\n",
        "‘Height’ and ‘HEIGHT’ will be accounted as 3 separate\n",
        "variables.\n",
        "#Output Variables\n",
        "In order to retrieve variables as output, the “print” statements are used in\n",
        "Python. You can use the “+” character to combine text with a variable for\n",
        "final output, as shown in the example below:\n",
        "\n",
        "```\n",
        "‘A = ‘red’\n",
        "print (‘Apples are’ + A)’\n",
        "```\n",
        "> OUTPUT – ‘Apples are red’\n",
        "\n",
        "A variable can also be combined with another variable using the “+”\n",
        "character, as shown in the example below\n",
        "\n",
        "```\n",
        "‘A = ‘Apples are’\n",
        "B = ‘red’\n",
        "AB = A + B\n",
        "print (AB)’\n",
        "```\n",
        "> OUTPUT – ‘Apples are red’\n",
        "\n",
        "However, when the “+” character is used with numeric values, it retains\n",
        "its function as a mathematical operator, as shown in the example below:\n",
        "\n",
        "```\n",
        "‘A = 20\n",
        "B = 30\n",
        "print (A + B)’\n",
        "```\n",
        "> OUTPUT = 5 0\n",
        "\n",
        "You will not be able to combine a string of characters with numbers and\n",
        "will trigger an error instead, as shown in the example below:\n",
        "```\n",
        "A = ‘red’\n",
        "B = 30\n",
        "print (A + B)\n",
        "```\n",
        "> OUTPUT – N/A – ERROR\n",
        "\n"
      ],
      "metadata": {
        "id": "khNDV054ximV"
      }
    },
    {
      "cell_type": "markdown",
      "source": [
        "In the previous chapter, you learned the basics of Python syntax, the\n",
        "concept of Python Variables, and Comments that serve as a prerequisite to\n",
        "the learning of Python programming. In this chapter, we will be looking at\n",
        "the nuances of how to write efficient and effective Python codes, focusing\n",
        "on various programming elements such as Booleans, Tuples, Sets,\n",
        "Dictionaries and much more. So let’s get started.\n",
        "\n"
      ],
      "metadata": {
        "id": "fkzyr64z5ayo"
      }
    },
    {
      "cell_type": "markdown",
      "source": [
        "##Python Numbers\n",
        "In Python programming, you will be working with 3 different numeric\n",
        "data types, namely, “int”, “float”, and “complex”. In the previous chapter,\n",
        "you learned the details of what these data types entail, but below are some\n",
        "examples to refresh your memory.\n",
        "\n",
        "####Data Type\n",
        "#####Int\n",
        "(Must be a whole number, positive or negative with no\n",
        "decimals, no length restrictions). Example: 363 or 3.214\n",
        "#####Float\n",
        "(Floating point number must be a positive or negative\n",
        "number with one or more decimals; maybe scientific number an\n",
        "“e” to specify an exponential power of 10). Example: 29e3\n",
        "######Complex\n",
        "(Must be written with a “j” as an imaginary character). Example: 92j"
      ],
      "metadata": {
        "id": "m4haEdGWJERh"
      }
    },
    {
      "cell_type": "markdown",
      "source": [
        "> Excercise\n",
        "1. Create variable “a” with data value as “3.24”, variable\n",
        "“b” with data value as “9e3” and variable “c” with data value as “-39j”."
      ],
      "metadata": {
        "id": "CIA7uW5_ZntX"
      }
    },
    {
      "cell_type": "code",
      "source": [
        "a = 3.24 # int\n",
        "b = 9e3 # float\n",
        "c = -39j # complex\n",
        "print (type (a) )\n",
        "print (type (b))\n",
        "print (type (c))"
      ],
      "metadata": {
        "id": "MEXfM9agJxg3"
      },
      "execution_count": null,
      "outputs": []
    },
    {
      "cell_type": "markdown",
      "source": [
        "###Converting one numeric data type to another\n",
        "As all Python variables are dynamic in nature, you will be able to\n",
        "convert the data type of these variables if needed by deriving a new variable\n",
        "from the variable that you would like to assign a new data type."
      ],
      "metadata": {
        "id": "D5S2V65GJ_W2"
      }
    },
    {
      "cell_type": "code",
      "source": [
        "a = 3.24 # int\n",
        "b = 9e3 # float\n",
        "c = -39j # complex\n",
        "#conversion from int to float\n",
        "x = float (a)\n",
        "#conversion from float to complex\n",
        "y = complex (b )\n",
        "#conversion from complex to int\n",
        "z = float (c)\n",
        "#conversion from int to complex\n",
        "x1 = int (a)\n",
        "print (x)\n",
        "print (y)\n",
        "print (z)\n",
        "print (x1)\n",
        "print (type (x))\n",
        "print (type (y))\n",
        "print (type (z))\n",
        "print (type (x1))"
      ],
      "metadata": {
        "id": "g5IsT1M1J-3O"
      },
      "execution_count": null,
      "outputs": []
    },
    {
      "cell_type": "code",
      "source": [
        "#View a random number between 14 and 24 by importing\n",
        "the random module\n",
        "import rando m\n",
        "print (random.randrange (14, 24))"
      ],
      "metadata": {
        "id": "NuoySWb6LVi7"
      },
      "execution_count": null,
      "outputs": []
    },
    {
      "cell_type": "markdown",
      "source": [
        "###Variable Casting with Constructor Functions\n",
        "In the discussion and exercise above, you learned that variables could be\n",
        "declared by simply assigning desired data value to them, and thereby, the\n",
        "variables will assume the pertinent data type based on the data value.\n",
        "However, Python allows you to specify the data types for variables by using\n",
        "classes or “constructor functions” to define the data type for variables. This\n",
        "process is called “Casting”.\n",
        "\n",
        "Here are the 3 constructor functions used for “casting” numeric data type\n",
        "to a variable.\n",
        "####Constructor Functions - Data Type\n",
        "int () - Will construct an integer number from an integer literal, a\n",
        "string literal (provided the string is representing a whole\n",
        "number) or a float literal (by rounding down to the preceding\n",
        "whole number)\n",
        "\n",
        "float () -  Will construct a float number from a string literal (provided\n",
        "the string is representing a float or an integer), a float literal or\n",
        "an integer literal\n",
        "\n",
        "complex () - Will construct a string from a large number of data types,\n",
        "such as integer literals, float literals, and strings\n",
        "\n"
      ],
      "metadata": {
        "id": "VLH-iSW8Ley8"
      }
    },
    {
      "cell_type": "code",
      "source": [
        "#Here are some examples:\n",
        "#Integer:\n",
        "a = int (6) # a takes the value 6\n",
        "b = int (4.6) # b takes the value 4\n",
        "c = int (‘7’) # c takes the value 7\n",
        "\n",
        "#Float:\n",
        "a = float (6) # a takes the value 6.0\n",
        "b = float (4.6) # b takes the value 4.6\n",
        "c = float (‘7’) # c takes the value 7.0\n",
        "\n",
        "#String:\n",
        "a = str (‘serial’) # a takes the value ‘serial’\n",
        "b = str (4.6) # b takes the value ‘4.6’\n",
        "c = str (‘7’) # c takes the value ‘7.0 ’"
      ],
      "metadata": {
        "id": "mZo6C9X0LeYx"
      },
      "execution_count": null,
      "outputs": []
    },
    {
      "cell_type": "markdown",
      "source": [
        "##Python Strings\n",
        "In Python, string data type for a variable is denoted by using single,\n",
        "double, or triple quotation marks. This implies that you can assign string\n",
        "data value to variable by quoting the string of characters. For example,\n",
        "“welcome” is the same as ‘welcome’ and ‘‘‘welcome’’’."
      ],
      "metadata": {
        "id": "hSsjXLgGMCdu"
      }
    },
    {
      "cell_type": "markdown",
      "source": [
        "> Excercise\n",
        "\n",
        "1. Create a variable “v” with a string data value as “outfit is\n",
        "cyan” and display it.\n",
        "\n",
        "2. Create a variable “A” with a multiple-line string data\n",
        "value as “Looking at the sky tonight, thinking of you by my side! Let the world go on and on; it will be alright if I stay strong!” and display it."
      ],
      "metadata": {
        "id": "W5zXiBbFZQ8z"
      }
    },
    {
      "cell_type": "code",
      "source": [
        "v = ‘outfit is cyan’\n",
        "print (v)"
      ],
      "metadata": {
        "id": "lPtk8X0wMBxR"
      },
      "execution_count": null,
      "outputs": []
    },
    {
      "cell_type": "code",
      "source": [
        "a = ‘‘‘Loving another is never easy,\n",
        "People tell you it won’t be breezy!You make your own decision,\n",
        "Don’t let the fear stop you from your persuasion! ’’’\n",
        "print (a)"
      ],
      "metadata": {
        "id": "BHuSo7qmMTtb"
      },
      "execution_count": null,
      "outputs": []
    },
    {
      "cell_type": "markdown",
      "source": [
        "##String Arrays\n",
        "In Python, string data values are arrays of bytes that represent Unicode\n",
        "characters as true for most programming languages. But unlike other\n",
        "programming languages, Python lacks data type for individual characters,\n",
        "which are denoted as string data type with length of 1.\n",
        "\n",
        "The first character of every string is given the position of ‘0’, and\n",
        "subsequently, the subsequent characters will have the position as 1, 2, 3,\n",
        "and so on. In order to display desired characters from a string data value,\n",
        "you can use the position of the character enclosed in square brackets. For\n",
        "example, if you wanted to display the fifth character of the string data value\n",
        "“apple” of variable “x”. You will use the command “print (x [4])”"
      ],
      "metadata": {
        "id": "xYWmkVfUMdFc"
      }
    },
    {
      "cell_type": "markdown",
      "source": [
        "> Excercise\n",
        "\n",
        "1. Create a variable “P” with a string data value as\n",
        "“brilliant” and display the fourth character of this string"
      ],
      "metadata": {
        "id": "cFtTKxtRZJXS"
      }
    },
    {
      "cell_type": "code",
      "source": [
        "P = ‘brilliant’\n",
        "print (P [4])"
      ],
      "metadata": {
        "id": "u1zWwPpHMrp9"
      },
      "execution_count": null,
      "outputs": []
    },
    {
      "cell_type": "markdown",
      "source": [
        "##Slicing\n",
        "If you would like to view a range of characters, you can do so by\n",
        "specifying the start and the end index of the desired positions and\n",
        "separating the indexes by a colon. For example, to view characters of a\n",
        "string from position 1 to position 3, your code will be “print (variable\n",
        "[1:3])” .\n",
        "\n",
        "You can even view the characters starting from the end of the string by\n",
        "using “negative indexes” and start slicing the string from the end of the\n",
        "string. For example, to view characters of a string from position 4 to\n",
        "position 1, your code will be “print (variable [-4 : -2])”.\n",
        "\n",
        "In order to view the length of the string, you can use the “len ()”\n",
        "function. For example, to view the length of a string, your code will be\n",
        "“print (len (variable))”"
      ],
      "metadata": {
        "id": "EWLgLucRMwOK"
      }
    },
    {
      "cell_type": "markdown",
      "source": [
        "> Excercise\n",
        "\n",
        "1. Create a variable “P” with a string data value as “strive\n",
        "for success!” and display characters from position 3 to 6 of this string.\n",
        "2. Create a variable “x” with a string data value as “coding\n",
        "is cool” and display characters from position 6 to 1, starting the count from the end of this string. \n",
        "3. Create a variable “z” with a string data value as\n",
        "“programming champ” and display the length of this string ."
      ],
      "metadata": {
        "id": "Lb1lS0a_YzPs"
      }
    },
    {
      "cell_type": "code",
      "source": [
        "P = ‘ strive for success!’\n",
        "print (P [4 : 7])"
      ],
      "metadata": {
        "id": "bJEM96sWM3Pr"
      },
      "execution_count": null,
      "outputs": []
    },
    {
      "cell_type": "code",
      "source": [
        "x = ‘ coding is cool’\n",
        "print (x [-6 : -2])"
      ],
      "metadata": {
        "id": "c-9AjGGqM8Zh"
      },
      "execution_count": null,
      "outputs": []
    },
    {
      "cell_type": "code",
      "source": [
        "z = ‘ programming champ’\n",
        "print (len (z))"
      ],
      "metadata": {
        "id": "zEQFNldtM-6M"
      },
      "execution_count": null,
      "outputs": []
    },
    {
      "cell_type": "markdown",
      "source": [
        "##String Methods\n",
        "There are various built-in methods in Python that can be applied to string\n",
        "data values. Here are the Python codes for some of the most frequently used\n",
        "string methods, using variable “P = ‘roses are red!’” ."
      ],
      "metadata": {
        "id": "SPNaR2LgM2c5"
      }
    },
    {
      "cell_type": "code",
      "source": [
        "#“strip ()” method – To remove any blank spaces at the start and the end of the string.\n",
        "P = “ roses are red! ”\n",
        "print (P.strip ())"
      ],
      "metadata": {
        "id": "Z98EXThPNHG9"
      },
      "execution_count": null,
      "outputs": []
    },
    {
      "cell_type": "code",
      "source": [
        "#“lower ()” method – To result in all the characters of a string in lower case.\n",
        "P = “ROSES are RED!”\n",
        "print (P.lower ())\n",
        "OUTPUT – roses are red!"
      ],
      "metadata": {
        "id": "4UHmd_eBNSIC"
      },
      "execution_count": null,
      "outputs": []
    },
    {
      "cell_type": "code",
      "source": [
        "#“replace ()” method – To replace select characters of a string.\n",
        "P = “roses are red!”\n",
        "print (P.replace (“roses”, “apples”))\n",
        "OUTPUT – apples are red!"
      ],
      "metadata": {
        "id": "QHPihSeGOiLe"
      },
      "execution_count": null,
      "outputs": []
    },
    {
      "cell_type": "code",
      "source": [
        "#“split ()” method – To split a string into substrings using comma as the separator .\n",
        "P = “Roses, Apples”\n",
        "print (P.split (““,))"
      ],
      "metadata": {
        "id": "-4Zd97mQOrVZ"
      },
      "execution_count": null,
      "outputs": []
    },
    {
      "cell_type": "markdown",
      "source": [
        "##String Concatenation\n",
        "There might be instances when you need to collate different string\n",
        "variables. This can be accomplished with the use of the “+” logical\n",
        "operator. Here’s the syntax for this Python code:"
      ],
      "metadata": {
        "id": "q1PrZazTMAaP"
      }
    },
    {
      "cell_type": "code",
      "source": [
        "X = “string1”\n",
        "Y = “string2”\n",
        "Z = X + Y\n",
        "print (Z)"
      ],
      "metadata": {
        "id": "NUV47Y6uOxhI"
      },
      "execution_count": null,
      "outputs": []
    },
    {
      "cell_type": "markdown",
      "source": [
        "Similarly, below is the syntax to insert a blank space between two\n",
        "different string variables."
      ],
      "metadata": {
        "id": "jmNFGn3DO2Q7"
      }
    },
    {
      "cell_type": "code",
      "source": [
        "X = “string1”\n",
        "Y = “string2”\n",
        "Z = X + “ ” + Y\n",
        "print (Z )"
      ],
      "metadata": {
        "id": "HESBht5vO1L2"
      },
      "execution_count": null,
      "outputs": []
    },
    {
      "cell_type": "markdown",
      "source": [
        "However, Python does not permit the concatenation of string variables\n",
        "with numeric variables. But can be accomplished with the use of the\n",
        "“format ()” method, which will format the executed arguments and placethem in the string where the placeholders “{ }” are used. Here’s the syntax\n",
        "for this Python code:"
      ],
      "metadata": {
        "id": "i3iosRcWO9gf"
      }
    },
    {
      "cell_type": "code",
      "source": [
        "X = numeric\n",
        "Y = “String”\n",
        "print (Y. format (X))"
      ],
      "metadata": {
        "id": "8l6JYAwYPA0q"
      },
      "execution_count": null,
      "outputs": []
    },
    {
      "cell_type": "markdown",
      "source": [
        "> Excercise"
      ],
      "metadata": {
        "id": "AKWlDl3iYozW"
      }
    },
    {
      "cell_type": "code",
      "source": [
        "#Create two variables “A” and “B” with string data values\n",
        "#as “Let’s have” and “some pizza!” and display them as a concatenated string.\n",
        "A = “Let’s have”\n",
        "B = “some pizza!”\n",
        "C = A + B\n",
        "print (C )"
      ],
      "metadata": {
        "id": "M9NpSZH-PIkc"
      },
      "execution_count": null,
      "outputs": []
    },
    {
      "cell_type": "code",
      "source": [
        "#Create two variables “A” with string data values as “her\n",
        "#lucky number is” and “B” with numeric data value as “18” and display\n",
        "#them as a concatenated string\n",
        "\n",
        "A = “her lucky number is”\n",
        "B = “18”\n",
        "print (A. format (B))"
      ],
      "metadata": {
        "id": "POp0bCNpPUIp"
      },
      "execution_count": null,
      "outputs": []
    },
    {
      "cell_type": "markdown",
      "source": [
        "##Python Booleans\n",
        "In the process of developing a software program, there is often a need to\n",
        "confirm and verify whether an expression is true or false. This is where\n",
        "Python Boolean data type and data values are used. In Python, comparison\n",
        "and evaluation of two data values will result in one of the two Boolean\n",
        "values: “True” or “False”.\n",
        "\n",
        "Here are some examples of comparison statement of numeric data\n",
        "leading to Boolean value:"
      ],
      "metadata": {
        "id": "mDkymJnNPH1L"
      }
    },
    {
      "cell_type": "code",
      "source": [
        "print (100 > 90)\n",
        "#OUTPUT – True\n",
        "print (100 == 90)\n",
        "#OUTPUT – False\n",
        "print (100 < 90)\n",
        "#OUTPUT – False"
      ],
      "metadata": {
        "id": "1gIzdWw9P00U"
      },
      "execution_count": null,
      "outputs": []
    },
    {
      "cell_type": "markdown",
      "source": [
        "Let’s look at the “bool ()” function now, which allows for the evaluation\n",
        "of numeric data as well as string data resulting in “True” or “False”\n",
        "Boolean values."
      ],
      "metadata": {
        "id": "HSUnvcKRP51q"
      }
    },
    {
      "cell_type": "code",
      "source": [
        "print (bool (99) )\n",
        "#OUTPUT - True\n",
        "print (bool (“Welcome”))\n",
        "#OUTPUT - True"
      ],
      "metadata": {
        "id": "6R3Cq4OeP9qz"
      },
      "execution_count": null,
      "outputs": []
    },
    {
      "cell_type": "markdown",
      "source": [
        "Here are some key points to remember for Booleans:\n",
        "\n",
        "1. If a statement has some kind of content, it would be evaluated as “True”.\n",
        "2. All string data values will be resulting as “True” unless the string is empty.\n",
        "3. All numeric values will be resulting as “True” except “0”\n",
        "4. Lists, Tuples, Set, and Dictionaries will be resulting as “True” unless they are empty.\n",
        "5. Mostly empty values like (), [], {}, “”, False, None and 0 will be resulting as “False”.\n",
        "6. Any object created with the “_len_” function that result in the data value as “0” or “False” will be evaluated as “False”.\n",
        "\n",
        "In Python there are various built-in functions function that can be evaluated as Boolean, for example, the “isinstance()” function, which allows you to determine the data type of an object. Therefore, in order to check if an object is integer, the code will be as below:"
      ],
      "metadata": {
        "id": "UpkMppiyPB6q"
      }
    },
    {
      "cell_type": "code",
      "source": [
        "X = 123\n",
        "print (isinstance (X, int))"
      ],
      "metadata": {
        "id": "qY1MkokbRPgw"
      },
      "execution_count": null,
      "outputs": []
    },
    {
      "cell_type": "markdown",
      "source": [
        "> Excersie\n",
        "\n",
        "Create two variables “X” with string data values as “Just\n",
        "do it!” and “Y” with numeric data value as “3.24” and evaluate them."
      ],
      "metadata": {
        "id": "EBEQNp_YQ5n0"
      }
    },
    {
      "cell_type": "code",
      "source": [
        "X = “Just do it!”\n",
        "Y = 3.24\n",
        "print (bool (X))\n",
        "print (bool (Y)"
      ],
      "metadata": {
        "id": "kuVK8ZQSRZw3"
      },
      "execution_count": null,
      "outputs": []
    },
    {
      "cell_type": "markdown",
      "source": [
        "##Python Lists\n",
        "In Python, lists are collections of data types that can be changed,\n",
        "organized, and include duplicate values. Lists are written within square\n",
        "brackets, as shown in the syntax below.\n"
      ],
      "metadata": {
        "id": "qSb5eOpfRdUJ"
      }
    },
    {
      "cell_type": "code",
      "source": [
        "X = [“string001”, “string002”, “string003”]\n",
        "print (X)"
      ],
      "metadata": {
        "id": "hWRbKvGcRggm"
      },
      "execution_count": null,
      "outputs": []
    },
    {
      "cell_type": "markdown",
      "source": [
        "The same concept of position applies to Lists as the string data type,\n",
        "which dictates that the first string is considered to be at position 0.\n",
        "Subsequently, the strings that will follow are given positions 1, 2, and so on.\n",
        "You can selectively display desired string from a List by referencing the\n",
        "position of that string inside square bracket in the print command, as shown\n",
        "below.\n"
      ],
      "metadata": {
        "id": "3nmPgghfRlrQ"
      }
    },
    {
      "cell_type": "code",
      "source": [
        "X = [“string001”, “string002”, “string003”]\n",
        "print (X [2]) #OUTPUT – [string003]"
      ],
      "metadata": {
        "id": "a53PkkgLRpmk"
      },
      "execution_count": null,
      "outputs": []
    },
    {
      "cell_type": "code",
      "source": [
        "#Similarly, the concept of negative indexing is also applied to Python List.\n",
        "X = [“string001”, “string002”, “string003”]\n",
        "print (X [-2]) #OUTPUT – [string002]\n"
      ],
      "metadata": {
        "id": "YWSzi0q7RucN"
      },
      "execution_count": null,
      "outputs": []
    },
    {
      "cell_type": "markdown",
      "source": [
        "You will also be able to specify a **range of indexes** by indicating the\n",
        "start and end of a range. The result in values of such command on a Python\n",
        "List would be a new List containing only the indicated items. Here is an\n",
        "example for your reference"
      ],
      "metadata": {
        "id": "wk6HhFuVR6iq"
      }
    },
    {
      "cell_type": "code",
      "source": [
        "X = [“string001”, “string002”, “string003”, “string004”, “string005”,“string006”]\n",
        "print (X [2 : 4]) #OUTPUT – [“string003”, “string004”]\n",
        "\n",
        "#* Remember the first item is at position 0, and the final position of the range (4) is not included."
      ],
      "metadata": {
        "id": "d30jINF1SAwT"
      },
      "execution_count": null,
      "outputs": []
    },
    {
      "cell_type": "code",
      "source": [
        "#Now, if you do not indicate the start of this range, it will default to the position 0 as shown in the example below:\n",
        "X = [“string001”, “string002”, “string003”, “string004”, “string005”,“string006”]\n",
        "print (X [ : 3] )\n",
        "#OUTPUT – [“string001”, “string002”, “string003”]"
      ],
      "metadata": {
        "id": "mcfYZ7HwSvjv"
      },
      "execution_count": null,
      "outputs": []
    },
    {
      "cell_type": "code",
      "source": [
        "#Similarly, if you do not indicate the end of this range it will display all\n",
        "#the items of the List from the indicated start range to the end of the List, as\n",
        "#shown in the example below:\n",
        "X = [“string001”, “string002”, “string003”, “string004”, “string005”,\n",
        "“string006”]\n",
        "print (X [3 : ])\n",
        "#OUTPUT – [“string004”, “string005”, “string006”]"
      ],
      "metadata": {
        "id": "ILTMMfkCS9nS"
      },
      "execution_count": null,
      "outputs": []
    },
    {
      "cell_type": "markdown",
      "source": [
        "You can also specify a **range of negative indexes** to Python Lists, as\n",
        "shown in the example below:"
      ],
      "metadata": {
        "id": "CAGYzrSUTDjW"
      }
    },
    {
      "cell_type": "code",
      "source": [
        "X = [“string001”, “string002”, “string003”, “string004”, “string005”,\n",
        "“string006”]\n",
        "print (X [-3 : -1]) #OUTPUT – [“string004”, “string005” ]\n",
        "#* Remember the last item is at position -1, and the final position of this range (-1) is not included in the Output."
      ],
      "metadata": {
        "id": "dl_Enf6kTC4R"
      },
      "execution_count": null,
      "outputs": []
    },
    {
      "cell_type": "markdown",
      "source": [
        "There might be instances when you need to **change the data value** for a\n",
        "Python List. This can be accomplished by referring to the index number of\n",
        "that item and declaring the new value. Let’s look at the example below:\n"
      ],
      "metadata": {
        "id": "jnnUxezzTXJU"
      }
    },
    {
      "cell_type": "code",
      "source": [
        "X = [“string001”, “string002”, “string003”, “string004”, “string005”,“string006”]\n",
        "X [3] = “newstring”\n",
        "print (X)\n",
        "#OUTPUT – [“string001”, “string002”, “string003”, “newstring”,\n",
        "#“string005”, “string006”]"
      ],
      "metadata": {
        "id": "ku6mqWgGTmXP"
      },
      "execution_count": null,
      "outputs": []
    },
    {
      "cell_type": "markdown",
      "source": [
        "You can also determine the **length** of a Python List using the “len()”\n",
        "function, as shown in the example below:\n"
      ],
      "metadata": {
        "id": "i9OpZ-7wTj7Q"
      }
    },
    {
      "cell_type": "code",
      "source": [
        "X = [“string001”, “string002”, “string003”, “string004”, “string005”,\n",
        "“string006”]\n",
        "print (len (X) )"
      ],
      "metadata": {
        "id": "_-TgmnHrUGzi"
      },
      "execution_count": null,
      "outputs": []
    },
    {
      "cell_type": "markdown",
      "source": [
        "Python Lists can also be changed by **adding new items** to an existing\n",
        "list using the built-in “append ()” method, as shown in the example below:"
      ],
      "metadata": {
        "id": "Eh_-WpACUPof"
      }
    },
    {
      "cell_type": "code",
      "source": [
        "X = [“string001”, “string002”, “string003”, “string004”]\n",
        "X.append (“newstring”)\n",
        "print (X)\n",
        "#OUTPUT – [“string001”, “string002”, “string003”, “string004”, “newstring”]"
      ],
      "metadata": {
        "id": "MSkcHoRYUdp8"
      },
      "execution_count": null,
      "outputs": []
    },
    {
      "cell_type": "code",
      "source": [
        "#You can also, add a new item to an existing Python List at a specific\n",
        "#position using the built-in “insert ()” method, as shown in the example below:\n",
        "X = [“string001”, “string002”, “string003”, “string004”]\n",
        "X.insert (2, “newstring”)\n",
        "print (X)\n",
        "#OUTPUT – [“string001”, “string002”, “newstring”, “string004”]"
      ],
      "metadata": {
        "id": "UEKWpP8EUnmW"
      },
      "execution_count": null,
      "outputs": []
    },
    {
      "cell_type": "code",
      "source": [
        "#There might be instances when you need to copy an existing Python\n",
        "#List. This can be accomplished by using the built-in “copy ( )” method or\n",
        "#the “list ( )” method, as shown in the example below:\n",
        "X = [“string001”, “string002”, “string003”, “string004”, “string005”,\n",
        "“string006”]\n",
        "Y = X.copy( )\n",
        "print (Y)\n",
        "# Y sama dengan x"
      ],
      "metadata": {
        "id": "-ijN7CDdUyP3"
      },
      "execution_count": null,
      "outputs": []
    },
    {
      "cell_type": "code",
      "source": [
        "#alternatif\n",
        "X = [“string001”, “string002”, “string003”, “string004”, “string005”,\n",
        "“string006”]\n",
        "Y = list (X)\n",
        "print (Y)"
      ],
      "metadata": {
        "id": "WD_avt8BVHqW"
      },
      "execution_count": null,
      "outputs": []
    },
    {
      "cell_type": "markdown",
      "source": [
        "There are multiple built-in methods to **delete** items from a Python List"
      ],
      "metadata": {
        "id": "uk-Lj3M-VMx3"
      }
    },
    {
      "cell_type": "code",
      "source": [
        "#To selectively delete a specific item, the “remove ()” method can be used.\n",
        "X = [“string001”, “string002”, “string003”, “string004” ]\n",
        "X.remove (“string002”)\n",
        "print (X)"
      ],
      "metadata": {
        "id": "sdfoiMA4VLBz"
      },
      "execution_count": null,
      "outputs": []
    },
    {
      "cell_type": "code",
      "source": [
        "#To delete a specific item from the List, the “pop ()” method\n",
        "#can be used with the position of the value. If no index has been\n",
        "#indicated, the last item of the index will be removed.\n",
        "X = [“string001”, “string002”, “string003”, “string004”]\n",
        "X.pop ( )\n",
        "print (X)"
      ],
      "metadata": {
        "id": "Hu2eOgdaVTZE"
      },
      "execution_count": null,
      "outputs": []
    },
    {
      "cell_type": "code",
      "source": [
        "#To delete a specific index from the List, the “del ()” method\n",
        "#can be used, followed by the index within square brackets.\n",
        "X = [“string001”, “string002”, “string003”, “string004”]\n",
        "del X [2]\n",
        "print (X)"
      ],
      "metadata": {
        "id": "9CyJe9uyVZbg"
      },
      "execution_count": null,
      "outputs": []
    },
    {
      "cell_type": "code",
      "source": [
        "#To delete the entire List variable, the “del ()” method can be used, as shown below.\n",
        "X = [“string001”, “string002”, “string003”, “string004”]\n",
        "del X"
      ],
      "metadata": {
        "id": "uEi2m3SfVdbg"
      },
      "execution_count": null,
      "outputs": []
    },
    {
      "cell_type": "code",
      "source": [
        "#To delete all the string values from the List without deleting\n",
        "#the variable itself, the “clear ()” method can be used, as shown below.\n",
        "X = [“string001”, “string002”, “string003”, “string004”]\n",
        "X.clear()\n",
        "print (X)"
      ],
      "metadata": {
        "id": "urJbMLwfVguz"
      },
      "execution_count": null,
      "outputs": []
    },
    {
      "cell_type": "markdown",
      "source": [
        "##Concatenation of Lists\n",
        "You can join multiple lists with the use of the “+” logical operator or by\n",
        "adding all the items from one list to another using the “append ( )” method.\n",
        "The “extend ( )” method can be used to add a list at the end of another list.\n",
        "Let’s look at the examples below to understand these commands ."
      ],
      "metadata": {
        "id": "1Mx7CzaMVmar"
      }
    },
    {
      "cell_type": "code",
      "source": [
        "X = [“string001”, “string002”, “string003”, “string004”]\n",
        "Y = [10, 20, 30, 40]\n",
        "Z = X + Y\n",
        "print (Z)\n",
        "#OUTPUT – [“string001”, “string002”, “string003”, “string004”, 10, 20,30, 40]\n"
      ],
      "metadata": {
        "id": "C8ihCRtVXUFN"
      },
      "execution_count": null,
      "outputs": []
    },
    {
      "cell_type": "code",
      "source": [
        "X = [“string001”, “string002”, “string003”, “string004”]\n",
        "Y = [10, 20, 30, 40]\n",
        "For x in Y:\n",
        "X.append (x)\n",
        "print (X)\n",
        "#OUTPUT – [“string001”, “string002”, “string003”, “string004”, 10, 20, 30, 40]\n"
      ],
      "metadata": {
        "id": "7tuPVpGeXnhv"
      },
      "execution_count": null,
      "outputs": []
    },
    {
      "cell_type": "code",
      "source": [
        "X = [“string001”, “string002”, “string003”]\n",
        "Y = [10, 20, 30]X.extend (Y)\n",
        "print (X )\n",
        "#OUTPUT – [“string001”, “string002”, “string003”, 10, 20, 30]"
      ],
      "metadata": {
        "id": "yhhqBP6cXprk"
      },
      "execution_count": null,
      "outputs": []
    },
    {
      "cell_type": "markdown",
      "source": [
        "> Excercise\n",
        "\n",
        "\n",
        "1.   Create a list “A” with string data values as “red, olive,\n",
        "cyan, lilac, mustard” and display the item at -2 position.\n",
        "2.   Create a list “A” with string data values as “red, olive,\n",
        "cyan, lilac, mustard” and display the items ranging from the string on the second position to the end of the string.\n",
        "3. Create a list “A” with string data values as “red, olive,\n",
        "cyan, lilac, mustard” and replace the string “olive” to “teal”.\n",
        "4. Create a list “A” with string data values as “red, olive,\n",
        "cyan, lilac, mustard” and copy the list “A” to create list “B”.\n",
        "5. Create a list “A” with string data values as “red, olive,\n",
        "cyan, lilac, mustard” and delete the strings “red” and “lilac”\n",
        "\n"
      ],
      "metadata": {
        "id": "vNg-XghBX5zt"
      }
    },
    {
      "cell_type": "code",
      "source": [
        "A = [“ red”, “olive”, “cyan”, “lilac”, “mustard”]\n",
        "print (A [-2])"
      ],
      "metadata": {
        "id": "yqUenNt1X8oK"
      },
      "execution_count": null,
      "outputs": []
    },
    {
      "cell_type": "code",
      "source": [
        "A = [“red”, “olive”, “cyan”, “lilac”, “mustard”]\n",
        "print (A [2 : ])"
      ],
      "metadata": {
        "id": "V3yMSW5_Z8ZU"
      },
      "execution_count": null,
      "outputs": []
    },
    {
      "cell_type": "code",
      "source": [
        "A = [“red”, “olive”, “cyan”, “lilac”, “mustard”]\n",
        "A [1] = [“teal”]\n",
        "print (A)"
      ],
      "metadata": {
        "id": "k8vnXKBsaHZw"
      },
      "execution_count": null,
      "outputs": []
    },
    {
      "cell_type": "code",
      "source": [
        "A = [“red”, “olive”, “cyan”, “lilac”, “mustard”]\n",
        "B = A.copy ( )\n",
        "print (B)"
      ],
      "metadata": {
        "id": "H9mHnom7aKs5"
      },
      "execution_count": null,
      "outputs": []
    },
    {
      "cell_type": "code",
      "source": [
        "A = [“red”, “olive”, “cyan”, “lilac”, “mustard”]\n",
        "del.A [0, 2]\n",
        "print (A)"
      ],
      "metadata": {
        "id": "SiJvR8jXaUTA"
      },
      "execution_count": null,
      "outputs": []
    },
    {
      "cell_type": "markdown",
      "source": [
        "##Python Tuples\n",
        "In Python, Tuples are collections of data types that cannot be changedbut can be arranged in specific order. Tuples allow for duplicate items andare written within round brackets, as shown in the syntax below.\n",
        "\n",
        "```\n",
        "Tuple = (“string001”, “string002”, “string003”)\n",
        "print (Tuple)\n",
        "```\n",
        "Similar to the Python List, you can selectively display the desired string\n",
        "from a Tuple by referencing the position of that string inside square bracket\n",
        "in the print command as shown below."
      ],
      "metadata": {
        "id": "XruXf3h0aWxD"
      }
    },
    {
      "cell_type": "code",
      "source": [
        "Tuple = (“string001”, “string002”, “string003”)\n",
        "print (Tuple [1])\n",
        "#OUTPUT – (“string002”)"
      ],
      "metadata": {
        "id": "wfJJ2Vl_a5Am"
      },
      "execution_count": null,
      "outputs": []
    },
    {
      "cell_type": "markdown",
      "source": [
        "The concept of **negative indexing** can also be applied to Python Tuple, as shown in the example below:"
      ],
      "metadata": {
        "id": "Zm-k2-bRa-UT"
      }
    },
    {
      "cell_type": "code",
      "source": [
        "Tuple = (“string001”, “string002”, “string003”, “string004”,\n",
        "“string005”)\n",
        "print (Tuple [-2] )\n",
        "#OUTPUT – (“string004”)"
      ],
      "metadata": {
        "id": "9D2Z66MabDhV"
      },
      "execution_count": null,
      "outputs": []
    },
    {
      "cell_type": "markdown",
      "source": [
        "You will also be able to specify a **range of indexes** by indicating the start and end of a range. The result in values of such command on a Python Tuple would be a new Tuple containing only the indicated items, as shown\n",
        "in the example below:"
      ],
      "metadata": {
        "id": "zg3xYwEzbIMd"
      }
    },
    {
      "cell_type": "code",
      "source": [
        "Tuple = (“string001”, “string002”, “string003”, “string004”,\n",
        "“string005”, “string006”)\n",
        "print (Tuple [1:5])\n",
        "#OUTPUT – (“string002”, “string003”, “string004”, “string005”)\n",
        "#* Remember the first item is at position 0 and the final position of the range,\n",
        "# which is the fifth position in this example, is not included."
      ],
      "metadata": {
        "id": "EJWDDZi3bH0X"
      },
      "execution_count": null,
      "outputs": []
    },
    {
      "cell_type": "markdown",
      "source": [
        "You can also specify a **range of negative indexes** to Python Tuples, as shown in the example below:"
      ],
      "metadata": {
        "id": "hwsyqyGdbYjp"
      }
    },
    {
      "cell_type": "code",
      "source": [
        "Tuple = (“string001”, “string002”, “string003”, “string004”,\n",
        "“string005”, “string006”)\n",
        "print (Tuple [-4: -2])\n",
        "#OUTPUT – (“string004”, “string005” )\n",
        "#* Remember the last item is at position -1 and the final position of this range,\n",
        "# which is the negative fourth position in this example is not included in the Output"
      ],
      "metadata": {
        "id": "-e1LH7Jybd41"
      },
      "execution_count": null,
      "outputs": []
    },
    {
      "cell_type": "markdown",
      "source": [
        "Unlike Python lists, you **cannot directly change the data value** of Python Tuples after they have been created. However, conversion of a Tuple into a List and then modifying the data value of that List will allow you to subsequently create a Tuple from that updated List. Let’s look at theexample below:"
      ],
      "metadata": {
        "id": "eo_lKteJbtAI"
      }
    },
    {
      "cell_type": "code",
      "source": [
        "Tuple1 = (“string001”, “string002”, “string003”, “string004”,\n",
        "“string005”, “string006”)\n",
        "List1 = list (Tuple1)\n",
        "List1 [2] = “update this list to create new tuple”\n",
        "Tuple1 = tuple (List1)\n",
        "print (Tuple1)\n",
        "\n",
        "#OUTPUT – (“string001”, “string002”, “update this list to create new\n",
        "#tuple”, “string004”, “string005”, “string006” )"
      ],
      "metadata": {
        "id": "scUV0ftRb2fg"
      },
      "execution_count": null,
      "outputs": []
    },
    {
      "cell_type": "markdown",
      "source": [
        "You can also determine the **length** of a Python Tuple using the “len()” function, as shown in the example below:"
      ],
      "metadata": {
        "id": "IS2zbNgOb7z2"
      }
    },
    {
      "cell_type": "code",
      "source": [
        "Tuple = (“string001”, “string002”, “string003”, “string004”,\n",
        "“string005”, “string006”)\n",
        "print (len (Tuple))\n",
        "#OUTPUT – 6"
      ],
      "metadata": {
        "id": "bY0zuPbZcBOk"
      },
      "execution_count": null,
      "outputs": []
    },
    {
      "cell_type": "markdown",
      "source": [
        "You cannot selectively delete items from a Tuple, but you can use the “del” keyword to **delete the Tuple** in its entirety, as shown in the example below:\n",
        "\n",
        "\n",
        "```\n",
        "Tuple = (“string001”, “string002”, “string003”, “string004”)\n",
        "del Tuple\n",
        "print (Tuple)\n",
        "OUTPUT – name ‘Tuple’ is not defined\n",
        "```\n",
        "You can **join multiple Tuples** with the use of the “+” logical operator.\n",
        "\n",
        "\n",
        "```\n",
        "Tuple1 = (“string001”, “string002”, “string003”, “string004”)\n",
        "Tuple2 = (100, 200, 300 )\n",
        "Tuple3 = Tuple1 + Tuple2\n",
        "print (Tuple3)\n",
        "OUTPUT – (“string001”, “string002”, “string003”, “string004”, 100, 200, 300)\n",
        "```\n",
        "\n",
        "\n",
        "You can also use the “tuple ( )” constructor to create a Tuple, as shown\n",
        "in the example below:"
      ],
      "metadata": {
        "id": "UI9AvcMpcah6"
      }
    },
    {
      "cell_type": "code",
      "source": [
        "Tuple1 = tuple ((“string001”, “string002”, “string003”, “string004”))\n",
        "print (Tuple1)"
      ],
      "metadata": {
        "id": "WctEP2wIcpPd"
      },
      "execution_count": null,
      "outputs": []
    },
    {
      "cell_type": "markdown",
      "source": [
        "> Excecise\n",
        "\n",
        "1. Create a Tuple “X” with string data values as “pies, cake,\n",
        "bread, scone, cookies” and display the item at -3 position.\n",
        "2. Create a Tuple “X” with string data values as “pies, cake,\n",
        "bread, scone, cookies” and display items ranging from -2 to -4.\n",
        "3. Create a Tuple “X” with string data values as “pies, cake,\n",
        "bread, scone, cookies” and change its item from “cookies” to “tart” usingList function.\n",
        "4. Create a Tuple “X” with string data values as “pies, cake,\n",
        "cookies” and another Tuple “Y” with numeric data values as (2, 12, 22),\n",
        "then join them together."
      ],
      "metadata": {
        "id": "sCk1ndulcyar"
      }
    },
    {
      "cell_type": "code",
      "source": [
        "X = (“pies”, “cake”, “bread”, “scone”, “cookies”)\n",
        "print (X [-3])\n",
        "#OUTPUT – (“bread”)"
      ],
      "metadata": {
        "id": "zjlroQGBdERY"
      },
      "execution_count": null,
      "outputs": []
    },
    {
      "cell_type": "code",
      "source": [
        "X = (“pies”, “cake”, “bread”, “scone”, “cookies”)\n",
        "print (X [-4 : -2])\n",
        "#OUTPUT – (“cake”, “bread”)"
      ],
      "metadata": {
        "id": "KHA6b1YXdNeV"
      },
      "execution_count": null,
      "outputs": []
    },
    {
      "cell_type": "code",
      "source": [
        "X = (“pies”, “cake”, “bread”, “scone”, “cookies”)\n",
        "Y = list (X)\n",
        "Y [4] = “tart”\n",
        "X = tuple (Y)\n",
        "print (X)\n",
        "#OUTPUT – (“pies”, “cake”, “bread”, “scone”, “tart”)"
      ],
      "metadata": {
        "id": "9iLKxLiTdPgk"
      },
      "execution_count": null,
      "outputs": []
    },
    {
      "cell_type": "code",
      "source": [
        "X = (“pies”, “cake”, “cookies”)\n",
        "Y = (2, 12, 22)\n",
        "Z = X + Y\n",
        "print (Z )\n",
        "#OUTPUT – (“pies”, “cake”, “cookies”, 2, 12, 22)"
      ],
      "metadata": {
        "id": "YV8bar2TdY2j"
      },
      "execution_count": null,
      "outputs": []
    },
    {
      "cell_type": "markdown",
      "source": [
        "##Python Sets\n",
        "In Python, Sets are collections of data types that cannot be organized and indexed. Sets do not allow for duplicate items and must be written withincurly brackets, as shown in the syntax below:\n",
        "\n",
        "\n",
        "```\n",
        "set = {“string1”, “string2”, “string3”}\n",
        "print (set)\n",
        "```\n",
        "\n",
        "\n",
        "Unlike the Python List and Tuple, you cannot selectively display desired items from a Set by referencing the position of that item because the Python Set are not arranged in any order. Therefore, items do not have any indexing. However, the “for” loop can be used on Sets (more on this topic later in this chapter).\n",
        "Unlike Python Lists, you cannot directly change the data values of Python Sets after they have been created. However, you can use the “add()” method to add a single item to Set and use the “update ( )” method to one or more items to an already existing Set. Let’s look at the example below"
      ],
      "metadata": {
        "id": "Qx6lhfjUdMwn"
      }
    },
    {
      "cell_type": "code",
      "source": [
        "et = {“string1”, “string2”, “string3” }\n",
        "set. add (“newstring”)\n",
        "print (set)\n",
        "#OUTPUT – {“string1”, “string2”, “string3”, “newstring”}\n",
        "set = {“string1”, “string2”, “string3”}\n",
        "set. update ([“newstring1”, “newstring2”, “newstring3”,)\n",
        "print (set)\n",
        "#OUTPUT – {“string1”, “string2”, “string3”, “newstring1”, “newstring2”,\n",
        "“newstring3”}"
      ],
      "metadata": {
        "id": "P8miOHcSd97a"
      },
      "execution_count": null,
      "outputs": []
    },
    {
      "cell_type": "markdown",
      "source": [
        "You can also determine the length of a Python Set using the “len()” function, as shown in the example below:"
      ],
      "metadata": {
        "id": "hnP0YnRqd9hO"
      }
    },
    {
      "cell_type": "code",
      "source": [
        "set = {“string1”, “string2”, “string3”, “string4”, “string5”, “string6”,\n",
        "“string7”}\n",
        "print (len(set))\n",
        "#OUTPUT – 7"
      ],
      "metadata": {
        "id": "h-5MrKb2f2io"
      },
      "execution_count": null,
      "outputs": []
    },
    {
      "cell_type": "markdown",
      "source": [
        "To selectively delete a specific item from a Set , the “remove ()”method can be used as shown in the code below:"
      ],
      "metadata": {
        "id": "w6TrMoYygNWW"
      }
    },
    {
      "cell_type": "code",
      "source": [
        "\n",
        "set = {“string1”, “string2”, “string3”, “string4”, “string5”}\n",
        "set. remove (“string4”)\n",
        "print (set)\n",
        "OUTPUT – {“string1”, “string2”, “string3”, “string5” }"
      ],
      "metadata": {
        "id": "aaFvGJGCgK3z"
      },
      "execution_count": null,
      "outputs": []
    },
    {
      "cell_type": "markdown",
      "source": [
        "You can also use the “discard ( )” method to delete specific items from a\n",
        "Set, as shown in the example below:\n",
        "set = {“string1”, “string2”, “string3”, “string4”, “string5”}\n",
        "set. discard (“string3”)\n",
        "print (set)\n",
        "OUTPUT – {“string1”, “string2”, “string4”, “string5” }\n",
        "The “pop ( )” method can be used to selectively delete only the last item\n",
        "of a Set. It must be noted here that since the Python Sets are unordered, any\n",
        "item that the system deems as the last item will be removed. As a result, the\n",
        "output of this method will be the item that has been removed .\n",
        "set = {“string1”, “string2”, “string3”, “string4”, “string5”}\n",
        "A = set.pop ( )\n",
        "print (A)\n",
        "print (set)\n",
        "OUTPUT –\n",
        "String2\n",
        "{“string1”, “string3”, “string4”, “string5” }\n",
        "To delete the entire Set, the “del” keyword can be used, as shown below.\n",
        "set = {“string1”, “string2”, “string3”, “string4”, “string5”}\n",
        "delete set\n",
        "print (set)\n",
        "OUTPUT – name ‘set’ is not defined\n",
        "To delete all the items from the Set without deleting the variable itself,\n",
        "the “clear ()” method can be used, as shown below:\n",
        "set = {“string1”, “string2”, “string3”, “string4”, “string5” }\n",
        "set.clear ( )\n",
        "print (set)\n",
        "OUTPUT – set ( )"
      ],
      "metadata": {
        "id": "9UNejMR_gRxA"
      }
    },
    {
      "cell_type": "markdown",
      "source": [
        "You can join multiple Sets with the use of the “union ( )” method. The\n",
        "output of this method will be a new set that contains all items from both the\n",
        "sets. You can also use the “update ( )” method to insert all the items from\n",
        "one set into another without creating a new Set.Set1 = {“string1”, “string2”, “string3”, “string4”, “string5”}\n",
        "Set2 = {15, 25, 35, 45, 55}\n",
        "Set3 = Set1.union (Set2)\n",
        "print (Set3)\n",
        "OUTPUT – {“string1”, 15, “string2”, 25, “string3”, 35, “string4”, 45,\n",
        "“string5”, 55}\n",
        "Set1 = {“string1”, “string2”, “string3”, “string4”, “string5”}\n",
        "Set2 = {15, 25, 35, 45, 55}\n",
        "Set1.update (Set2)\n",
        "print (Set1 )\n",
        "OUTPUT – {25, “string1”, 15, “string4”,55, “string2”, 35, “string3”,\n",
        "45, “string5”}\n",
        "You can also use the “set ( )” constructor to create a Set, as shown in the\n",
        "example below:\n",
        "Set1 = set ((“string1”, “string2”, “string3”, “string4”, “string5”))\n",
        "print (Set1)\n",
        "OUTPUT – {“string3”, “string5”, “string2”, “string4”, “string1”}"
      ],
      "metadata": {
        "id": "aSY0Qaq3gWrV"
      }
    },
    {
      "cell_type": "markdown",
      "source": [
        "> Excercise\n",
        "Create a Set “Veg” with string data values as “pies, cake,\n",
        "bread, scone, cookies” and add new items “tart”, “custard” and “waffles” to this Set.\n",
        "\n",
        "Create a Set “Veg” with string data values as “pies, cake,\n",
        "bread, scone, cookies” and add new items “tart”, “custard” and “waffles” to\n",
        "this Set.\n",
        "\n",
        "Create a Set “Veg” with string data values as “pies, cake,\n",
        "bread, scone, cookies” and add new items “tart”, “custard” and “waffles” to\n",
        "this Set."
      ],
      "metadata": {
        "id": "aYAd4Xb7gal1"
      }
    },
    {
      "cell_type": "code",
      "source": [
        "Veg = {“pies”, “cake”, “bread”, “scone”, “cookies”}\n",
        "Veg.update ([ “tart”, “custard”, “waffles”])\n",
        "print (Veg )\n",
        "OUTPUT – {“pies”, “custard”, “scone”, “cake”, “bread”, “waffles”,\n",
        "“cookies”, “tart”}\n",
        "\n",
        "\n",
        "Veg = {“pies”, “cake”, “bread”, “scone”, “cookies”}\n",
        "Veg.update ([ “tart”, “custard”, “waffles”])\n",
        "print (Veg )\n",
        "OUTPUT – {“pies”, “custard”, “scone”, “cake”, “bread”, “waffles”,\n",
        "“cookies”, “tart”}\n",
        "\n",
        "Veg = {“pies”, “cake”, “bread”, “scone”, “cookies”}\n",
        "Veg2 = {“ tart”, “eggos”, “custard”, “waffles”}\n",
        "AllVeg = Veg.union (Veg2) #this Set name may vary as it has\n",
        "not been defined in the exercise\n",
        "print (AllVeg)\n",
        "OUTPUT – {“pies”, “custard”, “scone”, “cake”, “eggos”, “bread”,\n",
        "“waffles”, “cookies”, “tart”}"
      ],
      "metadata": {
        "id": "Qs9TAfB6gVu3"
      },
      "execution_count": null,
      "outputs": []
    }
  ]
}